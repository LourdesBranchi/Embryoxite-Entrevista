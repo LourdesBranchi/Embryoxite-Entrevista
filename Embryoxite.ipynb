{
  "nbformat": 4,
  "nbformat_minor": 0,
  "metadata": {
    "colab": {
      "provenance": [],
      "authorship_tag": "ABX9TyO0LqbGljY9X+tZAYBrIYRP",
      "include_colab_link": true
    },
    "kernelspec": {
      "name": "python3",
      "display_name": "Python 3"
    },
    "language_info": {
      "name": "python"
    }
  },
  "cells": [
    {
      "cell_type": "markdown",
      "metadata": {
        "id": "view-in-github",
        "colab_type": "text"
      },
      "source": [
        "<a href=\"https://colab.research.google.com/github/LourdesBranchi/Embryoxite-Entrevista/blob/main/Embryoxite.ipynb\" target=\"_parent\"><img src=\"https://colab.research.google.com/assets/colab-badge.svg\" alt=\"Open In Colab\"/></a>"
      ]
    },
    {
      "cell_type": "code",
      "execution_count": 1,
      "metadata": {
        "colab": {
          "base_uri": "https://localhost:8080/"
        },
        "id": "v46B6SQtPdHD",
        "outputId": "f4e202c4-a9d2-445d-9c8b-49a3107a102f"
      },
      "outputs": [
        {
          "output_type": "stream",
          "name": "stdout",
          "text": [
            "Cloning into 'DataLabLearningSeries'...\n",
            "remote: Enumerating objects: 173, done.\u001b[K\n",
            "remote: Counting objects: 100% (173/173), done.\u001b[K\n",
            "remote: Compressing objects: 100% (169/169), done.\u001b[K\n",
            "remote: Total 173 (delta 73), reused 0 (delta 0), pack-reused 0 (from 0)\u001b[K\n",
            "Receiving objects: 100% (173/173), 1.74 MiB | 4.53 MiB/s, done.\n",
            "Resolving deltas: 100% (73/73), done.\n"
          ]
        }
      ],
      "source": [
        "! git clone https://github.com/elmerfer/DataLabLearningSeries.git"
      ]
    },
    {
      "cell_type": "code",
      "source": [
        "from google.colab import drive\n",
        "drive.mount('/content/drive')"
      ],
      "metadata": {
        "colab": {
          "base_uri": "https://localhost:8080/"
        },
        "id": "vWlvgmxu6fFn",
        "outputId": "ce548661-e1d8-4352-e34a-75734c3d9efa"
      },
      "execution_count": 10,
      "outputs": [
        {
          "output_type": "stream",
          "name": "stdout",
          "text": [
            "Mounted at /content/drive\n"
          ]
        }
      ]
    },
    {
      "cell_type": "code",
      "source": [
        "import tensorflow as tf\n",
        "import matplotlib.pyplot as plt\n",
        "from tensorflow.keras.utils import plot_model\n",
        "import pickle\n",
        "import pandas as pd\n",
        "import numpy as np\n",
        "from tabulate import tabulate\n",
        "import seaborn as sns\n",
        "from scipy.stats import linregress\n",
        "from statsmodels.nonparametric.smoothers_lowess import lowess\n",
        "from sklearn.preprocessing import StandardScaler\n",
        "from keras.models import Sequential, Model\n",
        "from keras.layers import Input, MultiHeadAttention, Dense, BatchNormalization, Activation, Dropout, Conv1D, Flatten, Attention, LayerNormalization, Reshape, Input\n",
        "from sklearn.model_selection import train_test_split\n",
        "import os"
      ],
      "metadata": {
        "id": "2RdEPXUWPx5U"
      },
      "execution_count": 30,
      "outputs": []
    },
    {
      "cell_type": "markdown",
      "source": [
        "# Extraer datos sin procesar"
      ],
      "metadata": {
        "id": "QAzaQ7tAS-eQ"
      }
    },
    {
      "cell_type": "code",
      "source": [
        "data_path = '/content/DataLabLearningSeries/BatchNormalization layer as Input Layer/Urea.csv'"
      ],
      "metadata": {
        "id": "flFpG6WZS4Qi"
      },
      "execution_count": 3,
      "outputs": []
    },
    {
      "cell_type": "code",
      "source": [
        "data = pd.read_csv(data_path)\n",
        "\n",
        "print(f'El archivo Urea.csv tiene {data.shape[0]} muestras y {data.shape[1]} features para cada muestra')\n",
        "print(f'Por cada muestra, el archivo CSV contiene la siguiente información:\\n{data.columns}')"
      ],
      "metadata": {
        "colab": {
          "base_uri": "https://localhost:8080/"
        },
        "id": "fBzkRDQsTL0w",
        "outputId": "73859295-3e09-4ea5-d11c-f6938c3bfe59"
      },
      "execution_count": 4,
      "outputs": [
        {
          "output_type": "stream",
          "name": "stdout",
          "text": [
            "El archivo Urea.csv tiene 129 muestras y 11 features para cada muestra\n",
            "Por cada muestra, el archivo CSV contiene la siguiente información:\n",
            "Index(['Upre', 'U120', 'Upos', 'PP', 'UF', 'Ueq', 'Uann', 'centro', 'Req',\n",
            "       'Uf/pp', 'Ktveq'],\n",
            "      dtype='object')\n"
          ]
        }
      ]
    },
    {
      "cell_type": "code",
      "source": [
        "rows_to_eliminate = data.loc[data['Ueq'] < data['Upos']]\n",
        "\n",
        "if not rows_to_eliminate.empty:\n",
        "    print(\"In the following samples Ueq is lower than Upos:\")\n",
        "    display(rows_to_eliminate)\n",
        "else:\n",
        "    print(\"Every Ueq value is equal or higher to Upos.\")\n",
        "\n",
        "print(f\"\\nThere are {len(rows_to_eliminate)} samples where Ueq is lower than Upos.\")"
      ],
      "metadata": {
        "colab": {
          "base_uri": "https://localhost:8080/",
          "height": 729
        },
        "id": "pNGGD8FpTOey",
        "outputId": "3b7970c5-bedf-4a3a-82a3-4eb4b9708a4a"
      },
      "execution_count": 5,
      "outputs": [
        {
          "output_type": "stream",
          "name": "stdout",
          "text": [
            "In the following samples Ueq is lower than Upos:\n"
          ]
        },
        {
          "output_type": "display_data",
          "data": {
            "text/plain": [
              "    Upre  U120  Upos     PP   UF   Ueq  Uann  centro       Req     Uf/pp  \\\n",
              "8    123    68    51   76.9  3.2  49.0  50.4       1  0.398374  0.041612   \n",
              "20   157    92    96   67.3  4.3  77.0  89.1       1  0.490446  0.063893   \n",
              "23   122    99    93   88.5  5.5  86.0  87.9       1  0.704918  0.062147   \n",
              "29   207    76    55   61.7  2.0  51.0  63.3       1  0.246377  0.032415   \n",
              "31   137    84    72  119.0  4.1  63.0  56.0       1  0.459854  0.034454   \n",
              "32   142   117    80   85.3  2.2  78.0  83.3       1  0.549296  0.025791   \n",
              "43   112    49    38   86.0  3.0  35.0  49.4       1  0.312500  0.034884   \n",
              "46   165    90    71   80.0  1.0  66.0  63.9       1  0.400000  0.012500   \n",
              "50   133    68    49   65.0  2.0  46.0  50.4       1  0.345865  0.030769   \n",
              "53    69    28    30   64.5  2.5  20.0  49.3       1  0.289855  0.038760   \n",
              "60   112    49    38   58.0  2.5  35.0  40.4       0  0.312500  0.043103   \n",
              "65   165    90    71   89.5  2.5  66.0  67.8       0  0.400000  0.027933   \n",
              "70   133    68    49  107.0  3.0  46.0  56.0       0  0.345865  0.028037   \n",
              "76    69    28    30   39.0  2.0  20.0  29.4       0  0.289855  0.051282   \n",
              "77   157    92    96   70.0  4.5  77.0  87.4       0  0.490446  0.064286   \n",
              "80   122    99    93   80.0  2.7  86.0  86.3       0  0.704918  0.033750   \n",
              "88   247   141    97   67.3  4.3  96.0  98.4       0  0.388664  0.063893   \n",
              "93   152    95    74   95.0  2.5  35.0  69.8       0  0.230263  0.026316   \n",
              "96   123    77    54   99.5  6.0  52.0  55.4       0  0.422764  0.060302   \n",
              "99   152    75    61   83.5  3.5  60.0  59.2       0  0.394737  0.041916   \n",
              "\n",
              "       Ktveq  \n",
              "8   1.120819  \n",
              "20  0.941477  \n",
              "23  0.513294  \n",
              "29  1.645721  \n",
              "31  0.939257  \n",
              "32  0.719805  \n",
              "43  1.378013  \n",
              "46  1.034672  \n",
              "50  1.249944  \n",
              "53  1.476692  \n",
              "60  1.403186  \n",
              "65  1.077885  \n",
              "70  1.241852  \n",
              "76  1.515893  \n",
              "77  0.942470  \n",
              "80  0.459759  \n",
              "88  1.212035  \n",
              "93  1.705245  \n",
              "96  1.104377  \n",
              "99  1.132105  "
            ],
            "text/html": [
              "\n",
              "  <div id=\"df-e4ee8612-77c2-4395-a6d3-f98633ccd000\" class=\"colab-df-container\">\n",
              "    <div>\n",
              "<style scoped>\n",
              "    .dataframe tbody tr th:only-of-type {\n",
              "        vertical-align: middle;\n",
              "    }\n",
              "\n",
              "    .dataframe tbody tr th {\n",
              "        vertical-align: top;\n",
              "    }\n",
              "\n",
              "    .dataframe thead th {\n",
              "        text-align: right;\n",
              "    }\n",
              "</style>\n",
              "<table border=\"1\" class=\"dataframe\">\n",
              "  <thead>\n",
              "    <tr style=\"text-align: right;\">\n",
              "      <th></th>\n",
              "      <th>Upre</th>\n",
              "      <th>U120</th>\n",
              "      <th>Upos</th>\n",
              "      <th>PP</th>\n",
              "      <th>UF</th>\n",
              "      <th>Ueq</th>\n",
              "      <th>Uann</th>\n",
              "      <th>centro</th>\n",
              "      <th>Req</th>\n",
              "      <th>Uf/pp</th>\n",
              "      <th>Ktveq</th>\n",
              "    </tr>\n",
              "  </thead>\n",
              "  <tbody>\n",
              "    <tr>\n",
              "      <th>8</th>\n",
              "      <td>123</td>\n",
              "      <td>68</td>\n",
              "      <td>51</td>\n",
              "      <td>76.9</td>\n",
              "      <td>3.2</td>\n",
              "      <td>49.0</td>\n",
              "      <td>50.4</td>\n",
              "      <td>1</td>\n",
              "      <td>0.398374</td>\n",
              "      <td>0.041612</td>\n",
              "      <td>1.120819</td>\n",
              "    </tr>\n",
              "    <tr>\n",
              "      <th>20</th>\n",
              "      <td>157</td>\n",
              "      <td>92</td>\n",
              "      <td>96</td>\n",
              "      <td>67.3</td>\n",
              "      <td>4.3</td>\n",
              "      <td>77.0</td>\n",
              "      <td>89.1</td>\n",
              "      <td>1</td>\n",
              "      <td>0.490446</td>\n",
              "      <td>0.063893</td>\n",
              "      <td>0.941477</td>\n",
              "    </tr>\n",
              "    <tr>\n",
              "      <th>23</th>\n",
              "      <td>122</td>\n",
              "      <td>99</td>\n",
              "      <td>93</td>\n",
              "      <td>88.5</td>\n",
              "      <td>5.5</td>\n",
              "      <td>86.0</td>\n",
              "      <td>87.9</td>\n",
              "      <td>1</td>\n",
              "      <td>0.704918</td>\n",
              "      <td>0.062147</td>\n",
              "      <td>0.513294</td>\n",
              "    </tr>\n",
              "    <tr>\n",
              "      <th>29</th>\n",
              "      <td>207</td>\n",
              "      <td>76</td>\n",
              "      <td>55</td>\n",
              "      <td>61.7</td>\n",
              "      <td>2.0</td>\n",
              "      <td>51.0</td>\n",
              "      <td>63.3</td>\n",
              "      <td>1</td>\n",
              "      <td>0.246377</td>\n",
              "      <td>0.032415</td>\n",
              "      <td>1.645721</td>\n",
              "    </tr>\n",
              "    <tr>\n",
              "      <th>31</th>\n",
              "      <td>137</td>\n",
              "      <td>84</td>\n",
              "      <td>72</td>\n",
              "      <td>119.0</td>\n",
              "      <td>4.1</td>\n",
              "      <td>63.0</td>\n",
              "      <td>56.0</td>\n",
              "      <td>1</td>\n",
              "      <td>0.459854</td>\n",
              "      <td>0.034454</td>\n",
              "      <td>0.939257</td>\n",
              "    </tr>\n",
              "    <tr>\n",
              "      <th>32</th>\n",
              "      <td>142</td>\n",
              "      <td>117</td>\n",
              "      <td>80</td>\n",
              "      <td>85.3</td>\n",
              "      <td>2.2</td>\n",
              "      <td>78.0</td>\n",
              "      <td>83.3</td>\n",
              "      <td>1</td>\n",
              "      <td>0.549296</td>\n",
              "      <td>0.025791</td>\n",
              "      <td>0.719805</td>\n",
              "    </tr>\n",
              "    <tr>\n",
              "      <th>43</th>\n",
              "      <td>112</td>\n",
              "      <td>49</td>\n",
              "      <td>38</td>\n",
              "      <td>86.0</td>\n",
              "      <td>3.0</td>\n",
              "      <td>35.0</td>\n",
              "      <td>49.4</td>\n",
              "      <td>1</td>\n",
              "      <td>0.312500</td>\n",
              "      <td>0.034884</td>\n",
              "      <td>1.378013</td>\n",
              "    </tr>\n",
              "    <tr>\n",
              "      <th>46</th>\n",
              "      <td>165</td>\n",
              "      <td>90</td>\n",
              "      <td>71</td>\n",
              "      <td>80.0</td>\n",
              "      <td>1.0</td>\n",
              "      <td>66.0</td>\n",
              "      <td>63.9</td>\n",
              "      <td>1</td>\n",
              "      <td>0.400000</td>\n",
              "      <td>0.012500</td>\n",
              "      <td>1.034672</td>\n",
              "    </tr>\n",
              "    <tr>\n",
              "      <th>50</th>\n",
              "      <td>133</td>\n",
              "      <td>68</td>\n",
              "      <td>49</td>\n",
              "      <td>65.0</td>\n",
              "      <td>2.0</td>\n",
              "      <td>46.0</td>\n",
              "      <td>50.4</td>\n",
              "      <td>1</td>\n",
              "      <td>0.345865</td>\n",
              "      <td>0.030769</td>\n",
              "      <td>1.249944</td>\n",
              "    </tr>\n",
              "    <tr>\n",
              "      <th>53</th>\n",
              "      <td>69</td>\n",
              "      <td>28</td>\n",
              "      <td>30</td>\n",
              "      <td>64.5</td>\n",
              "      <td>2.5</td>\n",
              "      <td>20.0</td>\n",
              "      <td>49.3</td>\n",
              "      <td>1</td>\n",
              "      <td>0.289855</td>\n",
              "      <td>0.038760</td>\n",
              "      <td>1.476692</td>\n",
              "    </tr>\n",
              "    <tr>\n",
              "      <th>60</th>\n",
              "      <td>112</td>\n",
              "      <td>49</td>\n",
              "      <td>38</td>\n",
              "      <td>58.0</td>\n",
              "      <td>2.5</td>\n",
              "      <td>35.0</td>\n",
              "      <td>40.4</td>\n",
              "      <td>0</td>\n",
              "      <td>0.312500</td>\n",
              "      <td>0.043103</td>\n",
              "      <td>1.403186</td>\n",
              "    </tr>\n",
              "    <tr>\n",
              "      <th>65</th>\n",
              "      <td>165</td>\n",
              "      <td>90</td>\n",
              "      <td>71</td>\n",
              "      <td>89.5</td>\n",
              "      <td>2.5</td>\n",
              "      <td>66.0</td>\n",
              "      <td>67.8</td>\n",
              "      <td>0</td>\n",
              "      <td>0.400000</td>\n",
              "      <td>0.027933</td>\n",
              "      <td>1.077885</td>\n",
              "    </tr>\n",
              "    <tr>\n",
              "      <th>70</th>\n",
              "      <td>133</td>\n",
              "      <td>68</td>\n",
              "      <td>49</td>\n",
              "      <td>107.0</td>\n",
              "      <td>3.0</td>\n",
              "      <td>46.0</td>\n",
              "      <td>56.0</td>\n",
              "      <td>0</td>\n",
              "      <td>0.345865</td>\n",
              "      <td>0.028037</td>\n",
              "      <td>1.241852</td>\n",
              "    </tr>\n",
              "    <tr>\n",
              "      <th>76</th>\n",
              "      <td>69</td>\n",
              "      <td>28</td>\n",
              "      <td>30</td>\n",
              "      <td>39.0</td>\n",
              "      <td>2.0</td>\n",
              "      <td>20.0</td>\n",
              "      <td>29.4</td>\n",
              "      <td>0</td>\n",
              "      <td>0.289855</td>\n",
              "      <td>0.051282</td>\n",
              "      <td>1.515893</td>\n",
              "    </tr>\n",
              "    <tr>\n",
              "      <th>77</th>\n",
              "      <td>157</td>\n",
              "      <td>92</td>\n",
              "      <td>96</td>\n",
              "      <td>70.0</td>\n",
              "      <td>4.5</td>\n",
              "      <td>77.0</td>\n",
              "      <td>87.4</td>\n",
              "      <td>0</td>\n",
              "      <td>0.490446</td>\n",
              "      <td>0.064286</td>\n",
              "      <td>0.942470</td>\n",
              "    </tr>\n",
              "    <tr>\n",
              "      <th>80</th>\n",
              "      <td>122</td>\n",
              "      <td>99</td>\n",
              "      <td>93</td>\n",
              "      <td>80.0</td>\n",
              "      <td>2.7</td>\n",
              "      <td>86.0</td>\n",
              "      <td>86.3</td>\n",
              "      <td>0</td>\n",
              "      <td>0.704918</td>\n",
              "      <td>0.033750</td>\n",
              "      <td>0.459759</td>\n",
              "    </tr>\n",
              "    <tr>\n",
              "      <th>88</th>\n",
              "      <td>247</td>\n",
              "      <td>141</td>\n",
              "      <td>97</td>\n",
              "      <td>67.3</td>\n",
              "      <td>4.3</td>\n",
              "      <td>96.0</td>\n",
              "      <td>98.4</td>\n",
              "      <td>0</td>\n",
              "      <td>0.388664</td>\n",
              "      <td>0.063893</td>\n",
              "      <td>1.212035</td>\n",
              "    </tr>\n",
              "    <tr>\n",
              "      <th>93</th>\n",
              "      <td>152</td>\n",
              "      <td>95</td>\n",
              "      <td>74</td>\n",
              "      <td>95.0</td>\n",
              "      <td>2.5</td>\n",
              "      <td>35.0</td>\n",
              "      <td>69.8</td>\n",
              "      <td>0</td>\n",
              "      <td>0.230263</td>\n",
              "      <td>0.026316</td>\n",
              "      <td>1.705245</td>\n",
              "    </tr>\n",
              "    <tr>\n",
              "      <th>96</th>\n",
              "      <td>123</td>\n",
              "      <td>77</td>\n",
              "      <td>54</td>\n",
              "      <td>99.5</td>\n",
              "      <td>6.0</td>\n",
              "      <td>52.0</td>\n",
              "      <td>55.4</td>\n",
              "      <td>0</td>\n",
              "      <td>0.422764</td>\n",
              "      <td>0.060302</td>\n",
              "      <td>1.104377</td>\n",
              "    </tr>\n",
              "    <tr>\n",
              "      <th>99</th>\n",
              "      <td>152</td>\n",
              "      <td>75</td>\n",
              "      <td>61</td>\n",
              "      <td>83.5</td>\n",
              "      <td>3.5</td>\n",
              "      <td>60.0</td>\n",
              "      <td>59.2</td>\n",
              "      <td>0</td>\n",
              "      <td>0.394737</td>\n",
              "      <td>0.041916</td>\n",
              "      <td>1.132105</td>\n",
              "    </tr>\n",
              "  </tbody>\n",
              "</table>\n",
              "</div>\n",
              "    <div class=\"colab-df-buttons\">\n",
              "\n",
              "  <div class=\"colab-df-container\">\n",
              "    <button class=\"colab-df-convert\" onclick=\"convertToInteractive('df-e4ee8612-77c2-4395-a6d3-f98633ccd000')\"\n",
              "            title=\"Convert this dataframe to an interactive table.\"\n",
              "            style=\"display:none;\">\n",
              "\n",
              "  <svg xmlns=\"http://www.w3.org/2000/svg\" height=\"24px\" viewBox=\"0 -960 960 960\">\n",
              "    <path d=\"M120-120v-720h720v720H120Zm60-500h600v-160H180v160Zm220 220h160v-160H400v160Zm0 220h160v-160H400v160ZM180-400h160v-160H180v160Zm440 0h160v-160H620v160ZM180-180h160v-160H180v160Zm440 0h160v-160H620v160Z\"/>\n",
              "  </svg>\n",
              "    </button>\n",
              "\n",
              "  <style>\n",
              "    .colab-df-container {\n",
              "      display:flex;\n",
              "      gap: 12px;\n",
              "    }\n",
              "\n",
              "    .colab-df-convert {\n",
              "      background-color: #E8F0FE;\n",
              "      border: none;\n",
              "      border-radius: 50%;\n",
              "      cursor: pointer;\n",
              "      display: none;\n",
              "      fill: #1967D2;\n",
              "      height: 32px;\n",
              "      padding: 0 0 0 0;\n",
              "      width: 32px;\n",
              "    }\n",
              "\n",
              "    .colab-df-convert:hover {\n",
              "      background-color: #E2EBFA;\n",
              "      box-shadow: 0px 1px 2px rgba(60, 64, 67, 0.3), 0px 1px 3px 1px rgba(60, 64, 67, 0.15);\n",
              "      fill: #174EA6;\n",
              "    }\n",
              "\n",
              "    .colab-df-buttons div {\n",
              "      margin-bottom: 4px;\n",
              "    }\n",
              "\n",
              "    [theme=dark] .colab-df-convert {\n",
              "      background-color: #3B4455;\n",
              "      fill: #D2E3FC;\n",
              "    }\n",
              "\n",
              "    [theme=dark] .colab-df-convert:hover {\n",
              "      background-color: #434B5C;\n",
              "      box-shadow: 0px 1px 3px 1px rgba(0, 0, 0, 0.15);\n",
              "      filter: drop-shadow(0px 1px 2px rgba(0, 0, 0, 0.3));\n",
              "      fill: #FFFFFF;\n",
              "    }\n",
              "  </style>\n",
              "\n",
              "    <script>\n",
              "      const buttonEl =\n",
              "        document.querySelector('#df-e4ee8612-77c2-4395-a6d3-f98633ccd000 button.colab-df-convert');\n",
              "      buttonEl.style.display =\n",
              "        google.colab.kernel.accessAllowed ? 'block' : 'none';\n",
              "\n",
              "      async function convertToInteractive(key) {\n",
              "        const element = document.querySelector('#df-e4ee8612-77c2-4395-a6d3-f98633ccd000');\n",
              "        const dataTable =\n",
              "          await google.colab.kernel.invokeFunction('convertToInteractive',\n",
              "                                                    [key], {});\n",
              "        if (!dataTable) return;\n",
              "\n",
              "        const docLinkHtml = 'Like what you see? Visit the ' +\n",
              "          '<a target=\"_blank\" href=https://colab.research.google.com/notebooks/data_table.ipynb>data table notebook</a>'\n",
              "          + ' to learn more about interactive tables.';\n",
              "        element.innerHTML = '';\n",
              "        dataTable['output_type'] = 'display_data';\n",
              "        await google.colab.output.renderOutput(dataTable, element);\n",
              "        const docLink = document.createElement('div');\n",
              "        docLink.innerHTML = docLinkHtml;\n",
              "        element.appendChild(docLink);\n",
              "      }\n",
              "    </script>\n",
              "  </div>\n",
              "\n",
              "\n",
              "<div id=\"df-614d84e0-6173-4958-b963-8a94b2e7319c\">\n",
              "  <button class=\"colab-df-quickchart\" onclick=\"quickchart('df-614d84e0-6173-4958-b963-8a94b2e7319c')\"\n",
              "            title=\"Suggest charts\"\n",
              "            style=\"display:none;\">\n",
              "\n",
              "<svg xmlns=\"http://www.w3.org/2000/svg\" height=\"24px\"viewBox=\"0 0 24 24\"\n",
              "     width=\"24px\">\n",
              "    <g>\n",
              "        <path d=\"M19 3H5c-1.1 0-2 .9-2 2v14c0 1.1.9 2 2 2h14c1.1 0 2-.9 2-2V5c0-1.1-.9-2-2-2zM9 17H7v-7h2v7zm4 0h-2V7h2v10zm4 0h-2v-4h2v4z\"/>\n",
              "    </g>\n",
              "</svg>\n",
              "  </button>\n",
              "\n",
              "<style>\n",
              "  .colab-df-quickchart {\n",
              "      --bg-color: #E8F0FE;\n",
              "      --fill-color: #1967D2;\n",
              "      --hover-bg-color: #E2EBFA;\n",
              "      --hover-fill-color: #174EA6;\n",
              "      --disabled-fill-color: #AAA;\n",
              "      --disabled-bg-color: #DDD;\n",
              "  }\n",
              "\n",
              "  [theme=dark] .colab-df-quickchart {\n",
              "      --bg-color: #3B4455;\n",
              "      --fill-color: #D2E3FC;\n",
              "      --hover-bg-color: #434B5C;\n",
              "      --hover-fill-color: #FFFFFF;\n",
              "      --disabled-bg-color: #3B4455;\n",
              "      --disabled-fill-color: #666;\n",
              "  }\n",
              "\n",
              "  .colab-df-quickchart {\n",
              "    background-color: var(--bg-color);\n",
              "    border: none;\n",
              "    border-radius: 50%;\n",
              "    cursor: pointer;\n",
              "    display: none;\n",
              "    fill: var(--fill-color);\n",
              "    height: 32px;\n",
              "    padding: 0;\n",
              "    width: 32px;\n",
              "  }\n",
              "\n",
              "  .colab-df-quickchart:hover {\n",
              "    background-color: var(--hover-bg-color);\n",
              "    box-shadow: 0 1px 2px rgba(60, 64, 67, 0.3), 0 1px 3px 1px rgba(60, 64, 67, 0.15);\n",
              "    fill: var(--button-hover-fill-color);\n",
              "  }\n",
              "\n",
              "  .colab-df-quickchart-complete:disabled,\n",
              "  .colab-df-quickchart-complete:disabled:hover {\n",
              "    background-color: var(--disabled-bg-color);\n",
              "    fill: var(--disabled-fill-color);\n",
              "    box-shadow: none;\n",
              "  }\n",
              "\n",
              "  .colab-df-spinner {\n",
              "    border: 2px solid var(--fill-color);\n",
              "    border-color: transparent;\n",
              "    border-bottom-color: var(--fill-color);\n",
              "    animation:\n",
              "      spin 1s steps(1) infinite;\n",
              "  }\n",
              "\n",
              "  @keyframes spin {\n",
              "    0% {\n",
              "      border-color: transparent;\n",
              "      border-bottom-color: var(--fill-color);\n",
              "      border-left-color: var(--fill-color);\n",
              "    }\n",
              "    20% {\n",
              "      border-color: transparent;\n",
              "      border-left-color: var(--fill-color);\n",
              "      border-top-color: var(--fill-color);\n",
              "    }\n",
              "    30% {\n",
              "      border-color: transparent;\n",
              "      border-left-color: var(--fill-color);\n",
              "      border-top-color: var(--fill-color);\n",
              "      border-right-color: var(--fill-color);\n",
              "    }\n",
              "    40% {\n",
              "      border-color: transparent;\n",
              "      border-right-color: var(--fill-color);\n",
              "      border-top-color: var(--fill-color);\n",
              "    }\n",
              "    60% {\n",
              "      border-color: transparent;\n",
              "      border-right-color: var(--fill-color);\n",
              "    }\n",
              "    80% {\n",
              "      border-color: transparent;\n",
              "      border-right-color: var(--fill-color);\n",
              "      border-bottom-color: var(--fill-color);\n",
              "    }\n",
              "    90% {\n",
              "      border-color: transparent;\n",
              "      border-bottom-color: var(--fill-color);\n",
              "    }\n",
              "  }\n",
              "</style>\n",
              "\n",
              "  <script>\n",
              "    async function quickchart(key) {\n",
              "      const quickchartButtonEl =\n",
              "        document.querySelector('#' + key + ' button');\n",
              "      quickchartButtonEl.disabled = true;  // To prevent multiple clicks.\n",
              "      quickchartButtonEl.classList.add('colab-df-spinner');\n",
              "      try {\n",
              "        const charts = await google.colab.kernel.invokeFunction(\n",
              "            'suggestCharts', [key], {});\n",
              "      } catch (error) {\n",
              "        console.error('Error during call to suggestCharts:', error);\n",
              "      }\n",
              "      quickchartButtonEl.classList.remove('colab-df-spinner');\n",
              "      quickchartButtonEl.classList.add('colab-df-quickchart-complete');\n",
              "    }\n",
              "    (() => {\n",
              "      let quickchartButtonEl =\n",
              "        document.querySelector('#df-614d84e0-6173-4958-b963-8a94b2e7319c button');\n",
              "      quickchartButtonEl.style.display =\n",
              "        google.colab.kernel.accessAllowed ? 'block' : 'none';\n",
              "    })();\n",
              "  </script>\n",
              "</div>\n",
              "\n",
              "  <div id=\"id_57fc2517-d64d-4581-b8da-70f943c1eb9b\">\n",
              "    <style>\n",
              "      .colab-df-generate {\n",
              "        background-color: #E8F0FE;\n",
              "        border: none;\n",
              "        border-radius: 50%;\n",
              "        cursor: pointer;\n",
              "        display: none;\n",
              "        fill: #1967D2;\n",
              "        height: 32px;\n",
              "        padding: 0 0 0 0;\n",
              "        width: 32px;\n",
              "      }\n",
              "\n",
              "      .colab-df-generate:hover {\n",
              "        background-color: #E2EBFA;\n",
              "        box-shadow: 0px 1px 2px rgba(60, 64, 67, 0.3), 0px 1px 3px 1px rgba(60, 64, 67, 0.15);\n",
              "        fill: #174EA6;\n",
              "      }\n",
              "\n",
              "      [theme=dark] .colab-df-generate {\n",
              "        background-color: #3B4455;\n",
              "        fill: #D2E3FC;\n",
              "      }\n",
              "\n",
              "      [theme=dark] .colab-df-generate:hover {\n",
              "        background-color: #434B5C;\n",
              "        box-shadow: 0px 1px 3px 1px rgba(0, 0, 0, 0.15);\n",
              "        filter: drop-shadow(0px 1px 2px rgba(0, 0, 0, 0.3));\n",
              "        fill: #FFFFFF;\n",
              "      }\n",
              "    </style>\n",
              "    <button class=\"colab-df-generate\" onclick=\"generateWithVariable('rows_to_eliminate')\"\n",
              "            title=\"Generate code using this dataframe.\"\n",
              "            style=\"display:none;\">\n",
              "\n",
              "  <svg xmlns=\"http://www.w3.org/2000/svg\" height=\"24px\"viewBox=\"0 0 24 24\"\n",
              "       width=\"24px\">\n",
              "    <path d=\"M7,19H8.4L18.45,9,17,7.55,7,17.6ZM5,21V16.75L18.45,3.32a2,2,0,0,1,2.83,0l1.4,1.43a1.91,1.91,0,0,1,.58,1.4,1.91,1.91,0,0,1-.58,1.4L9.25,21ZM18.45,9,17,7.55Zm-12,3A5.31,5.31,0,0,0,4.9,8.1,5.31,5.31,0,0,0,1,6.5,5.31,5.31,0,0,0,4.9,4.9,5.31,5.31,0,0,0,6.5,1,5.31,5.31,0,0,0,8.1,4.9,5.31,5.31,0,0,0,12,6.5,5.46,5.46,0,0,0,6.5,12Z\"/>\n",
              "  </svg>\n",
              "    </button>\n",
              "    <script>\n",
              "      (() => {\n",
              "      const buttonEl =\n",
              "        document.querySelector('#id_57fc2517-d64d-4581-b8da-70f943c1eb9b button.colab-df-generate');\n",
              "      buttonEl.style.display =\n",
              "        google.colab.kernel.accessAllowed ? 'block' : 'none';\n",
              "\n",
              "      buttonEl.onclick = () => {\n",
              "        google.colab.notebook.generateWithVariable('rows_to_eliminate');\n",
              "      }\n",
              "      })();\n",
              "    </script>\n",
              "  </div>\n",
              "\n",
              "    </div>\n",
              "  </div>\n"
            ],
            "application/vnd.google.colaboratory.intrinsic+json": {
              "type": "dataframe",
              "variable_name": "rows_to_eliminate",
              "summary": "{\n  \"name\": \"rows_to_eliminate\",\n  \"rows\": 20,\n  \"fields\": [\n    {\n      \"column\": \"Upre\",\n      \"properties\": {\n        \"dtype\": \"number\",\n        \"std\": 40,\n        \"min\": 69,\n        \"max\": 247,\n        \"num_unique_values\": 12,\n        \"samples\": [\n          247,\n          69,\n          123\n        ],\n        \"semantic_type\": \"\",\n        \"description\": \"\"\n      }\n    },\n    {\n      \"column\": \"U120\",\n      \"properties\": {\n        \"dtype\": \"number\",\n        \"std\": 27,\n        \"min\": 28,\n        \"max\": 141,\n        \"num_unique_values\": 13,\n        \"samples\": [\n          77,\n          141,\n          68\n        ],\n        \"semantic_type\": \"\",\n        \"description\": \"\"\n      }\n    },\n    {\n      \"column\": \"Upos\",\n      \"properties\": {\n        \"dtype\": \"number\",\n        \"std\": 22,\n        \"min\": 30,\n        \"max\": 97,\n        \"num_unique_values\": 14,\n        \"samples\": [\n          30,\n          74,\n          51\n        ],\n        \"semantic_type\": \"\",\n        \"description\": \"\"\n      }\n    },\n    {\n      \"column\": \"PP\",\n      \"properties\": {\n        \"dtype\": \"number\",\n        \"std\": 18.463292173790048,\n        \"min\": 39.0,\n        \"max\": 119.0,\n        \"num_unique_values\": 18,\n        \"samples\": [\n          76.9,\n          67.3,\n          65.0\n        ],\n        \"semantic_type\": \"\",\n        \"description\": \"\"\n      }\n    },\n    {\n      \"column\": \"UF\",\n      \"properties\": {\n        \"dtype\": \"number\",\n        \"std\": 1.2683495284486013,\n        \"min\": 1.0,\n        \"max\": 6.0,\n        \"num_unique_values\": 13,\n        \"samples\": [\n          6.0,\n          4.5,\n          3.2\n        ],\n        \"semantic_type\": \"\",\n        \"description\": \"\"\n      }\n    },\n    {\n      \"column\": \"Ueq\",\n      \"properties\": {\n        \"dtype\": \"number\",\n        \"std\": 22.01339305250807,\n        \"min\": 20.0,\n        \"max\": 96.0,\n        \"num_unique_values\": 13,\n        \"samples\": [\n          52.0,\n          20.0,\n          49.0\n        ],\n        \"semantic_type\": \"\",\n        \"description\": \"\"\n      }\n    },\n    {\n      \"column\": \"Uann\",\n      \"properties\": {\n        \"dtype\": \"number\",\n        \"std\": 18.666335445056387,\n        \"min\": 29.4,\n        \"max\": 98.4,\n        \"num_unique_values\": 18,\n        \"samples\": [\n          50.4,\n          89.1,\n          49.3\n        ],\n        \"semantic_type\": \"\",\n        \"description\": \"\"\n      }\n    },\n    {\n      \"column\": \"centro\",\n      \"properties\": {\n        \"dtype\": \"number\",\n        \"std\": 0,\n        \"min\": 0,\n        \"max\": 1,\n        \"num_unique_values\": 2,\n        \"samples\": [\n          0,\n          1\n        ],\n        \"semantic_type\": \"\",\n        \"description\": \"\"\n      }\n    },\n    {\n      \"column\": \"Req\",\n      \"properties\": {\n        \"dtype\": \"number\",\n        \"std\": 0.13081379497001072,\n        \"min\": 0.230263158,\n        \"max\": 0.704918033,\n        \"num_unique_values\": 14,\n        \"samples\": [\n          0.289855072,\n          0.230263158\n        ],\n        \"semantic_type\": \"\",\n        \"description\": \"\"\n      }\n    },\n    {\n      \"column\": \"Uf/pp\",\n      \"properties\": {\n        \"dtype\": \"number\",\n        \"std\": 0.015278958247205264,\n        \"min\": 0.0125,\n        \"max\": 0.064285714,\n        \"num_unique_values\": 19,\n        \"samples\": [\n          0.041612484,\n          0.025791325\n        ],\n        \"semantic_type\": \"\",\n        \"description\": \"\"\n      }\n    },\n    {\n      \"column\": \"Ktveq\",\n      \"properties\": {\n        \"dtype\": \"number\",\n        \"std\": 0.3364599238114802,\n        \"min\": 0.459758799,\n        \"max\": 1.705244537,\n        \"num_unique_values\": 20,\n        \"samples\": [\n          1.120818595,\n          1.705244537\n        ],\n        \"semantic_type\": \"\",\n        \"description\": \"\"\n      }\n    }\n  ]\n}"
            }
          },
          "metadata": {}
        },
        {
          "output_type": "stream",
          "name": "stdout",
          "text": [
            "\n",
            "There are 20 samples where Ueq is lower than Upos.\n"
          ]
        }
      ]
    },
    {
      "cell_type": "code",
      "source": [
        "clean_data = data.drop(rows_to_eliminate.index)\n",
        "\n",
        "if len(clean_data) != len(data):\n",
        "    print(f'Se eliminaron {len(rows_to_eliminate)}')\n",
        "    print(f'El DataFrame nuevo tiene {len(clean_data)} filas')\n",
        "else:\n",
        "    print('No se eliminaron filas')"
      ],
      "metadata": {
        "colab": {
          "base_uri": "https://localhost:8080/"
        },
        "id": "0zmhhY78TRZb",
        "outputId": "85641147-189a-440c-eca1-ef9ce78d52df"
      },
      "execution_count": 6,
      "outputs": [
        {
          "output_type": "stream",
          "name": "stdout",
          "text": [
            "Se eliminaron 20\n",
            "El DataFrame nuevo tiene 109 filas\n"
          ]
        }
      ]
    },
    {
      "cell_type": "markdown",
      "source": [
        "Se dividen los datos en las variables de entrada (X) y la variable que queremos predecir (y_ueq)"
      ],
      "metadata": {
        "id": "vJU1jnL7TUZR"
      }
    },
    {
      "cell_type": "code",
      "source": [
        "X = clean_data[['Upre', 'U120', 'Upos', 'PP', 'UF']] #Variables de entrada\n",
        "\n",
        "y_ueq = clean_data['Ueq'] #Variable de salida"
      ],
      "metadata": {
        "id": "n7dLKfzGTdYZ"
      },
      "execution_count": 8,
      "outputs": []
    },
    {
      "cell_type": "markdown",
      "source": [
        "# Entrenamiento"
      ],
      "metadata": {
        "id": "8MBb20EmThUa"
      }
    },
    {
      "cell_type": "markdown",
      "source": [
        "El modelo original presentado en el paper utiliza una capa de Batch Normalization (BN) como capa de entrada, seguida por capas completamente conectadas (Fully Connected Layers, FCL). En un ejercicio propuesto, se solicitó reemplazar estas FCL por capas convolucionales (CC) o capas atencionales (CA) para explorar diferentes arquitecturas."
      ],
      "metadata": {
        "id": "QppGQLvjTjTG"
      }
    },
    {
      "cell_type": "code",
      "source": [
        "def build_model_BN(tipo_capa, num_capas_ocultas, num_nodos_por_capa, funcion_activacion, activacion_salida):\n",
        "    model = Sequential()\n",
        "\n",
        "    # Añadir capa de Batch Normalization\n",
        "    print(X.shape[1])\n",
        "    model.add(BatchNormalization(input_shape=(X.shape[1],)))\n",
        "\n",
        "    for i in range(num_capas_ocultas):\n",
        "      if tipo_capa == 'FCL':\n",
        "        # Añadir capa oculta con el número de nodos especificado y la función de activación correspondiente\n",
        "        model.add(Dense(num_nodos_por_capa))\n",
        "      elif tipo_capa == 'Conv1D':\n",
        "        model.add(Reshape((X.shape[1], 1)))\n",
        "        # Añadir capa convolucional 1D con el número de filtros especificado y la función de activación correspondiente\n",
        "        model.add(Conv1D(filters=32, kernel_size=2, activation=funcion_activacion, padding='same'))\n",
        "\n",
        "      model.add(BatchNormalization())\n",
        "      if tipo_capa == 'Conv1D':\n",
        "        model.add(Flatten())\n",
        "      model.add(Activation(funcion_activacion))\n",
        "\n",
        "    model.add(Dense(1, activation=activacion_salida))  # Capa de salida con función de activación lineal o relu\n",
        "    return model"
      ],
      "metadata": {
        "id": "ai1Fc6fVuQIq"
      },
      "execution_count": 9,
      "outputs": []
    },
    {
      "cell_type": "markdown",
      "source": [
        "## Fully Connected Layer\n",
        "Este sería el modelo original presentado"
      ],
      "metadata": {
        "id": "pIZlAp-8A7CO"
      }
    },
    {
      "cell_type": "code",
      "source": [
        "# Path to store model checkpoints\n",
        "checkpoint_path = \"/content/drive/MyDrive/Embryoxite/original_model_checkpoints\"\n",
        "\n",
        "# Path to store results\n",
        "results_path = \"/content/drive/MyDrive/Embryoxite/original_model_checkpoints/results.pickle\"\n",
        "\n",
        "# Define optimizer\n",
        "optimizer = 'SGD'\n",
        "\n",
        "# Define metric for compile (Mean Squared Error)\n",
        "metric = 'mean_squared_error'\n",
        "\n",
        "# Define number of splits\n",
        "num_splits = 10\n",
        "\n",
        "# Define empty list to store results\n",
        "results_original = []\n",
        "\n",
        "for i in range(num_splits):\n",
        "\n",
        "    print(i)\n",
        "\n",
        "    X_t, X_test, y_t, y_test = train_test_split(X, y_ueq, test_size=0.2)\n",
        "    X_train, X_val, y_train, y_val = train_test_split(X_t, y_t, test_size=0.2)\n",
        "\n",
        "\n",
        "    DLNNe2e = build_model_BN(tipo_capa='FCL', num_capas_ocultas=1, num_nodos_por_capa=6, funcion_activacion='sigmoid',activacion_salida='linear')\n",
        "    DLNNe2e.compile(optimizer=optimizer, loss=metric)\n",
        "\n",
        "    input_shape = (None, X_train.shape[1])\n",
        "    DLNNe2e.build(input_shape)\n",
        "\n",
        "    # Train model with early stopping\n",
        "    history = DLNNe2e.fit(X_train, y_train, epochs=200, batch_size=32, verbose=0, validation_data=(X_val, y_val))\n",
        "\n",
        "    # Save model\n",
        "    DLNNe2e.save(os.path.join(checkpoint_path, f\"DLNNe2e_{i}.h5\"))\n",
        "\n",
        "    # Make predictions\n",
        "    predictions_DLNNe2e = DLNNe2e.predict(X_test).flatten()\n",
        "\n",
        "    # Calculate errors\n",
        "    errors_end_lineal = predictions_DLNNe2e - y_test\n",
        "\n",
        "    weights_first_layer = DLNNe2e.layers[1].get_weights()[0]\n",
        "\n",
        "    bn_layer = DLNNe2e.layers[0]\n",
        "    mu = bn_layer.moving_mean.numpy()\n",
        "    sd = np.sqrt(bn_layer.moving_variance.numpy())\n",
        "    beta = bn_layer.beta.numpy()\n",
        "    gamma = bn_layer.gamma.numpy()\n",
        "    parametres = [mu, sd, beta, gamma]\n",
        "\n",
        "    # Store relevant information in a dictionary for DLNNe2e model\n",
        "    result = {}\n",
        "    result['split'] = {'train_indices': X_train.index.tolist(), 'test_indices': X_test.index.tolist(), 'val_indices': X_val.index.tolist()}\n",
        "    result['hidden_layer_weights'] = weights_first_layer\n",
        "    result['bn_layer_params'] = parametres\n",
        "    result['mean_prediction_error'] = np.mean(errors_end_lineal)\n",
        "    result['std_prediction_error'] = np.std(errors_end_lineal)\n",
        "    result['mean_percentage_error'] = np.mean((errors_end_lineal / y_test) * 100)\n",
        "    result['std_percentage_error'] = np.std((errors_end_lineal / y_test) * 100)\n",
        "    result['predictions'] = predictions_DLNNe2e\n",
        "    result['true_value'] = y_test\n",
        "\n",
        "    # Agregar los diccionarios a la lista de resultados\n",
        "    results_original.append({'DLNNe2e': result})\n",
        "\n",
        "# Guardar los resultados en un archivo pickle\n",
        "with open(results_path, 'wb') as f:\n",
        "    pickle.dump(results_original, f)"
      ],
      "metadata": {
        "colab": {
          "base_uri": "https://localhost:8080/"
        },
        "collapsed": true,
        "id": "PgjQeqZO6Mrh",
        "outputId": "7c98791d-700d-4ca7-9c04-5bb8aa4e3882"
      },
      "execution_count": 11,
      "outputs": [
        {
          "output_type": "stream",
          "name": "stdout",
          "text": [
            "0\n",
            "5\n"
          ]
        },
        {
          "output_type": "stream",
          "name": "stderr",
          "text": [
            "/usr/local/lib/python3.11/dist-packages/keras/src/layers/normalization/batch_normalization.py:142: UserWarning: Do not pass an `input_shape`/`input_dim` argument to a layer. When using Sequential models, prefer using an `Input(shape)` object as the first layer in the model instead.\n",
            "  super().__init__(**kwargs)\n",
            "WARNING:absl:You are saving your model as an HDF5 file via `model.save()` or `keras.saving.save_model(model)`. This file format is considered legacy. We recommend using instead the native Keras format, e.g. `model.save('my_model.keras')` or `keras.saving.save_model(model, 'my_model.keras')`. \n"
          ]
        },
        {
          "output_type": "stream",
          "name": "stdout",
          "text": [
            "\u001b[1m1/1\u001b[0m \u001b[32m━━━━━━━━━━━━━━━━━━━━\u001b[0m\u001b[37m\u001b[0m \u001b[1m0s\u001b[0m 106ms/step\n",
            "1\n",
            "5\n"
          ]
        },
        {
          "output_type": "stream",
          "name": "stderr",
          "text": [
            "/usr/local/lib/python3.11/dist-packages/keras/src/layers/normalization/batch_normalization.py:142: UserWarning: Do not pass an `input_shape`/`input_dim` argument to a layer. When using Sequential models, prefer using an `Input(shape)` object as the first layer in the model instead.\n",
            "  super().__init__(**kwargs)\n",
            "WARNING:absl:You are saving your model as an HDF5 file via `model.save()` or `keras.saving.save_model(model)`. This file format is considered legacy. We recommend using instead the native Keras format, e.g. `model.save('my_model.keras')` or `keras.saving.save_model(model, 'my_model.keras')`. \n"
          ]
        },
        {
          "output_type": "stream",
          "name": "stdout",
          "text": [
            "\u001b[1m1/1\u001b[0m \u001b[32m━━━━━━━━━━━━━━━━━━━━\u001b[0m\u001b[37m\u001b[0m \u001b[1m0s\u001b[0m 136ms/step\n",
            "2\n",
            "5\n"
          ]
        },
        {
          "output_type": "stream",
          "name": "stderr",
          "text": [
            "/usr/local/lib/python3.11/dist-packages/keras/src/layers/normalization/batch_normalization.py:142: UserWarning: Do not pass an `input_shape`/`input_dim` argument to a layer. When using Sequential models, prefer using an `Input(shape)` object as the first layer in the model instead.\n",
            "  super().__init__(**kwargs)\n",
            "WARNING:absl:You are saving your model as an HDF5 file via `model.save()` or `keras.saving.save_model(model)`. This file format is considered legacy. We recommend using instead the native Keras format, e.g. `model.save('my_model.keras')` or `keras.saving.save_model(model, 'my_model.keras')`. \n"
          ]
        },
        {
          "output_type": "stream",
          "name": "stdout",
          "text": [
            "\u001b[1m1/1\u001b[0m \u001b[32m━━━━━━━━━━━━━━━━━━━━\u001b[0m\u001b[37m\u001b[0m \u001b[1m0s\u001b[0m 197ms/step\n",
            "3\n",
            "5\n"
          ]
        },
        {
          "output_type": "stream",
          "name": "stderr",
          "text": [
            "/usr/local/lib/python3.11/dist-packages/keras/src/layers/normalization/batch_normalization.py:142: UserWarning: Do not pass an `input_shape`/`input_dim` argument to a layer. When using Sequential models, prefer using an `Input(shape)` object as the first layer in the model instead.\n",
            "  super().__init__(**kwargs)\n",
            "WARNING:absl:You are saving your model as an HDF5 file via `model.save()` or `keras.saving.save_model(model)`. This file format is considered legacy. We recommend using instead the native Keras format, e.g. `model.save('my_model.keras')` or `keras.saving.save_model(model, 'my_model.keras')`. \n"
          ]
        },
        {
          "output_type": "stream",
          "name": "stdout",
          "text": [
            "\u001b[1m1/1\u001b[0m \u001b[32m━━━━━━━━━━━━━━━━━━━━\u001b[0m\u001b[37m\u001b[0m \u001b[1m0s\u001b[0m 94ms/step\n",
            "4\n",
            "5\n"
          ]
        },
        {
          "output_type": "stream",
          "name": "stderr",
          "text": [
            "/usr/local/lib/python3.11/dist-packages/keras/src/layers/normalization/batch_normalization.py:142: UserWarning: Do not pass an `input_shape`/`input_dim` argument to a layer. When using Sequential models, prefer using an `Input(shape)` object as the first layer in the model instead.\n",
            "  super().__init__(**kwargs)\n",
            "WARNING:absl:You are saving your model as an HDF5 file via `model.save()` or `keras.saving.save_model(model)`. This file format is considered legacy. We recommend using instead the native Keras format, e.g. `model.save('my_model.keras')` or `keras.saving.save_model(model, 'my_model.keras')`. \n",
            "WARNING:tensorflow:5 out of the last 5 calls to <function TensorFlowTrainer.make_predict_function.<locals>.one_step_on_data_distributed at 0x7edee86754e0> triggered tf.function retracing. Tracing is expensive and the excessive number of tracings could be due to (1) creating @tf.function repeatedly in a loop, (2) passing tensors with different shapes, (3) passing Python objects instead of tensors. For (1), please define your @tf.function outside of the loop. For (2), @tf.function has reduce_retracing=True option that can avoid unnecessary retracing. For (3), please refer to https://www.tensorflow.org/guide/function#controlling_retracing and https://www.tensorflow.org/api_docs/python/tf/function for  more details.\n"
          ]
        },
        {
          "output_type": "stream",
          "name": "stdout",
          "text": [
            "\u001b[1m1/1\u001b[0m \u001b[32m━━━━━━━━━━━━━━━━━━━━\u001b[0m\u001b[37m\u001b[0m \u001b[1m0s\u001b[0m 104ms/step\n"
          ]
        },
        {
          "output_type": "stream",
          "name": "stderr",
          "text": [
            "/usr/local/lib/python3.11/dist-packages/keras/src/layers/normalization/batch_normalization.py:142: UserWarning: Do not pass an `input_shape`/`input_dim` argument to a layer. When using Sequential models, prefer using an `Input(shape)` object as the first layer in the model instead.\n",
            "  super().__init__(**kwargs)\n"
          ]
        },
        {
          "output_type": "stream",
          "name": "stdout",
          "text": [
            "5\n",
            "5\n"
          ]
        },
        {
          "output_type": "stream",
          "name": "stderr",
          "text": [
            "WARNING:absl:You are saving your model as an HDF5 file via `model.save()` or `keras.saving.save_model(model)`. This file format is considered legacy. We recommend using instead the native Keras format, e.g. `model.save('my_model.keras')` or `keras.saving.save_model(model, 'my_model.keras')`. \n",
            "WARNING:tensorflow:6 out of the last 6 calls to <function TensorFlowTrainer.make_predict_function.<locals>.one_step_on_data_distributed at 0x7edee05bc680> triggered tf.function retracing. Tracing is expensive and the excessive number of tracings could be due to (1) creating @tf.function repeatedly in a loop, (2) passing tensors with different shapes, (3) passing Python objects instead of tensors. For (1), please define your @tf.function outside of the loop. For (2), @tf.function has reduce_retracing=True option that can avoid unnecessary retracing. For (3), please refer to https://www.tensorflow.org/guide/function#controlling_retracing and https://www.tensorflow.org/api_docs/python/tf/function for  more details.\n"
          ]
        },
        {
          "output_type": "stream",
          "name": "stdout",
          "text": [
            "\u001b[1m1/1\u001b[0m \u001b[32m━━━━━━━━━━━━━━━━━━━━\u001b[0m\u001b[37m\u001b[0m \u001b[1m0s\u001b[0m 100ms/step\n"
          ]
        },
        {
          "output_type": "stream",
          "name": "stderr",
          "text": [
            "/usr/local/lib/python3.11/dist-packages/keras/src/layers/normalization/batch_normalization.py:142: UserWarning: Do not pass an `input_shape`/`input_dim` argument to a layer. When using Sequential models, prefer using an `Input(shape)` object as the first layer in the model instead.\n",
            "  super().__init__(**kwargs)\n"
          ]
        },
        {
          "output_type": "stream",
          "name": "stdout",
          "text": [
            "6\n",
            "5\n"
          ]
        },
        {
          "output_type": "stream",
          "name": "stderr",
          "text": [
            "WARNING:absl:You are saving your model as an HDF5 file via `model.save()` or `keras.saving.save_model(model)`. This file format is considered legacy. We recommend using instead the native Keras format, e.g. `model.save('my_model.keras')` or `keras.saving.save_model(model, 'my_model.keras')`. \n"
          ]
        },
        {
          "output_type": "stream",
          "name": "stdout",
          "text": [
            "\u001b[1m1/1\u001b[0m \u001b[32m━━━━━━━━━━━━━━━━━━━━\u001b[0m\u001b[37m\u001b[0m \u001b[1m0s\u001b[0m 106ms/step\n",
            "7\n",
            "5\n"
          ]
        },
        {
          "output_type": "stream",
          "name": "stderr",
          "text": [
            "/usr/local/lib/python3.11/dist-packages/keras/src/layers/normalization/batch_normalization.py:142: UserWarning: Do not pass an `input_shape`/`input_dim` argument to a layer. When using Sequential models, prefer using an `Input(shape)` object as the first layer in the model instead.\n",
            "  super().__init__(**kwargs)\n",
            "WARNING:absl:You are saving your model as an HDF5 file via `model.save()` or `keras.saving.save_model(model)`. This file format is considered legacy. We recommend using instead the native Keras format, e.g. `model.save('my_model.keras')` or `keras.saving.save_model(model, 'my_model.keras')`. \n"
          ]
        },
        {
          "output_type": "stream",
          "name": "stdout",
          "text": [
            "\u001b[1m1/1\u001b[0m \u001b[32m━━━━━━━━━━━━━━━━━━━━\u001b[0m\u001b[37m\u001b[0m \u001b[1m0s\u001b[0m 111ms/step\n",
            "8\n",
            "5\n"
          ]
        },
        {
          "output_type": "stream",
          "name": "stderr",
          "text": [
            "/usr/local/lib/python3.11/dist-packages/keras/src/layers/normalization/batch_normalization.py:142: UserWarning: Do not pass an `input_shape`/`input_dim` argument to a layer. When using Sequential models, prefer using an `Input(shape)` object as the first layer in the model instead.\n",
            "  super().__init__(**kwargs)\n",
            "WARNING:absl:You are saving your model as an HDF5 file via `model.save()` or `keras.saving.save_model(model)`. This file format is considered legacy. We recommend using instead the native Keras format, e.g. `model.save('my_model.keras')` or `keras.saving.save_model(model, 'my_model.keras')`. \n"
          ]
        },
        {
          "output_type": "stream",
          "name": "stdout",
          "text": [
            "\u001b[1m1/1\u001b[0m \u001b[32m━━━━━━━━━━━━━━━━━━━━\u001b[0m\u001b[37m\u001b[0m \u001b[1m0s\u001b[0m 152ms/step\n",
            "9\n",
            "5\n"
          ]
        },
        {
          "output_type": "stream",
          "name": "stderr",
          "text": [
            "/usr/local/lib/python3.11/dist-packages/keras/src/layers/normalization/batch_normalization.py:142: UserWarning: Do not pass an `input_shape`/`input_dim` argument to a layer. When using Sequential models, prefer using an `Input(shape)` object as the first layer in the model instead.\n",
            "  super().__init__(**kwargs)\n",
            "WARNING:absl:You are saving your model as an HDF5 file via `model.save()` or `keras.saving.save_model(model)`. This file format is considered legacy. We recommend using instead the native Keras format, e.g. `model.save('my_model.keras')` or `keras.saving.save_model(model, 'my_model.keras')`. \n"
          ]
        },
        {
          "output_type": "stream",
          "name": "stdout",
          "text": [
            "\u001b[1m1/1\u001b[0m \u001b[32m━━━━━━━━━━━━━━━━━━━━\u001b[0m\u001b[37m\u001b[0m \u001b[1m0s\u001b[0m 133ms/step\n"
          ]
        }
      ]
    },
    {
      "cell_type": "markdown",
      "source": [
        "## Capa Convolucional"
      ],
      "metadata": {
        "id": "8cLCYAgGG-Ld"
      }
    },
    {
      "cell_type": "code",
      "source": [
        "# Path to store model checkpoints\n",
        "checkpoint_conv_path = \"/content/drive/MyDrive/Embryoxite/conv_model_checkpoints\"\n",
        "\n",
        "# Path to store results\n",
        "results_conv_path = \"/content/drive/MyDrive/Embryoxite/conv_model_checkpoints/results.pickle\""
      ],
      "metadata": {
        "id": "2UdkJ3-YHAYs"
      },
      "execution_count": 12,
      "outputs": []
    },
    {
      "cell_type": "code",
      "source": [
        "# Define optimizer\n",
        "optimizer = 'SGD'\n",
        "\n",
        "# Define metric for compile (Mean Squared Error)\n",
        "metric = 'mean_squared_error'\n",
        "\n",
        "# Define number of splits\n",
        "num_splits = 10\n",
        "\n",
        "# Define empty list to store results\n",
        "results_conv = []\n",
        "\n",
        "for i in range(num_splits):\n",
        "\n",
        "    print(i)\n",
        "\n",
        "    X_t, X_test, y_t, y_test = train_test_split(X, y_ueq, test_size=0.2)\n",
        "    X_train, X_val, y_train, y_val = train_test_split(X_t, y_t, test_size=0.2)\n",
        "\n",
        "    conv = build_model_BN(tipo_capa='Conv1D', num_capas_ocultas=1, num_nodos_por_capa=2, funcion_activacion='sigmoid',activacion_salida='linear')\n",
        "    conv.compile(optimizer=optimizer, loss=metric)\n",
        "\n",
        "    input_shape = (None, X_train.shape[1])\n",
        "    conv.build(input_shape)\n",
        "    # Train model with early stopping\n",
        "    history = conv.fit(X_train, y_train, epochs=200, batch_size=32, verbose=0, validation_data=(X_val, y_val))\n",
        "\n",
        "    # Save model\n",
        "    conv.save(os.path.join(checkpoint_conv_path, f\"conv_{i}.h5\"))\n",
        "\n",
        "    # Make predictions\n",
        "    predictions_conv = conv.predict(X_test).flatten()\n",
        "\n",
        "    # Calculate errors\n",
        "    errors_end_lineal = predictions_conv - y_test\n",
        "\n",
        "    weights_first_layer = conv.layers[2].get_weights()[0] #La capa de la hidden layer en este caso es 2, por el reshape\n",
        "\n",
        "    bn_layer = conv.layers[0] #La capa de BN de interes es siempre la capa 0\n",
        "    mu = bn_layer.moving_mean.numpy()\n",
        "    sd = np.sqrt(bn_layer.moving_variance.numpy())\n",
        "    beta = bn_layer.beta.numpy()\n",
        "    gamma = bn_layer.gamma.numpy()\n",
        "    parametres = [mu, sd, beta, gamma]\n",
        "\n",
        "    # Store relevant information in a dictionary for conv model\n",
        "    result = {}\n",
        "    result['split'] = {'train_indices': X_train.index.tolist(), 'test_indices': X_test.index.tolist(), 'val_indices': X_val.index.tolist()}\n",
        "    result['hidden_layer_weights'] = weights_first_layer\n",
        "    result['bn_layer_params'] = parametres\n",
        "    result['mean_prediction_error'] = np.mean(errors_end_lineal)\n",
        "    result['std_prediction_error'] = np.std(errors_end_lineal)\n",
        "    result['mean_percentage_error'] = np.mean((errors_end_lineal / y_test) * 100)\n",
        "    result['std_percentage_error'] = np.std((errors_end_lineal / y_test) * 100)\n",
        "    result['predictions'] = predictions_conv\n",
        "    result['true_value'] = y_test\n",
        "\n",
        "    # Agregar los diccionarios a la lista de resultados\n",
        "    results_conv.append({'conv': result})\n",
        "\n",
        "# Guardar los resultados en un archivo pickle\n",
        "with open(results_conv_path, 'wb') as f:\n",
        "    pickle.dump(results_conv, f)"
      ],
      "metadata": {
        "colab": {
          "base_uri": "https://localhost:8080/"
        },
        "collapsed": true,
        "outputId": "f836c877-e0c0-4d3c-fc8a-4e9b0258a7b6",
        "id": "Knr4Fg58HCdl"
      },
      "execution_count": 13,
      "outputs": [
        {
          "output_type": "stream",
          "name": "stdout",
          "text": [
            "0\n",
            "5\n"
          ]
        },
        {
          "output_type": "stream",
          "name": "stderr",
          "text": [
            "/usr/local/lib/python3.11/dist-packages/keras/src/layers/normalization/batch_normalization.py:142: UserWarning: Do not pass an `input_shape`/`input_dim` argument to a layer. When using Sequential models, prefer using an `Input(shape)` object as the first layer in the model instead.\n",
            "  super().__init__(**kwargs)\n",
            "WARNING:absl:You are saving your model as an HDF5 file via `model.save()` or `keras.saving.save_model(model)`. This file format is considered legacy. We recommend using instead the native Keras format, e.g. `model.save('my_model.keras')` or `keras.saving.save_model(model, 'my_model.keras')`. \n"
          ]
        },
        {
          "output_type": "stream",
          "name": "stdout",
          "text": [
            "\u001b[1m1/1\u001b[0m \u001b[32m━━━━━━━━━━━━━━━━━━━━\u001b[0m\u001b[37m\u001b[0m \u001b[1m0s\u001b[0m 113ms/step\n",
            "1\n",
            "5\n"
          ]
        },
        {
          "output_type": "stream",
          "name": "stderr",
          "text": [
            "/usr/local/lib/python3.11/dist-packages/keras/src/layers/normalization/batch_normalization.py:142: UserWarning: Do not pass an `input_shape`/`input_dim` argument to a layer. When using Sequential models, prefer using an `Input(shape)` object as the first layer in the model instead.\n",
            "  super().__init__(**kwargs)\n",
            "WARNING:absl:You are saving your model as an HDF5 file via `model.save()` or `keras.saving.save_model(model)`. This file format is considered legacy. We recommend using instead the native Keras format, e.g. `model.save('my_model.keras')` or `keras.saving.save_model(model, 'my_model.keras')`. \n"
          ]
        },
        {
          "output_type": "stream",
          "name": "stdout",
          "text": [
            "\u001b[1m1/1\u001b[0m \u001b[32m━━━━━━━━━━━━━━━━━━━━\u001b[0m\u001b[37m\u001b[0m \u001b[1m0s\u001b[0m 110ms/step\n",
            "2\n",
            "5\n"
          ]
        },
        {
          "output_type": "stream",
          "name": "stderr",
          "text": [
            "/usr/local/lib/python3.11/dist-packages/keras/src/layers/normalization/batch_normalization.py:142: UserWarning: Do not pass an `input_shape`/`input_dim` argument to a layer. When using Sequential models, prefer using an `Input(shape)` object as the first layer in the model instead.\n",
            "  super().__init__(**kwargs)\n",
            "WARNING:absl:You are saving your model as an HDF5 file via `model.save()` or `keras.saving.save_model(model)`. This file format is considered legacy. We recommend using instead the native Keras format, e.g. `model.save('my_model.keras')` or `keras.saving.save_model(model, 'my_model.keras')`. \n"
          ]
        },
        {
          "output_type": "stream",
          "name": "stdout",
          "text": [
            "\u001b[1m1/1\u001b[0m \u001b[32m━━━━━━━━━━━━━━━━━━━━\u001b[0m\u001b[37m\u001b[0m \u001b[1m0s\u001b[0m 109ms/step\n",
            "3\n",
            "5\n"
          ]
        },
        {
          "output_type": "stream",
          "name": "stderr",
          "text": [
            "/usr/local/lib/python3.11/dist-packages/keras/src/layers/normalization/batch_normalization.py:142: UserWarning: Do not pass an `input_shape`/`input_dim` argument to a layer. When using Sequential models, prefer using an `Input(shape)` object as the first layer in the model instead.\n",
            "  super().__init__(**kwargs)\n",
            "WARNING:absl:You are saving your model as an HDF5 file via `model.save()` or `keras.saving.save_model(model)`. This file format is considered legacy. We recommend using instead the native Keras format, e.g. `model.save('my_model.keras')` or `keras.saving.save_model(model, 'my_model.keras')`. \n"
          ]
        },
        {
          "output_type": "stream",
          "name": "stdout",
          "text": [
            "\u001b[1m1/1\u001b[0m \u001b[32m━━━━━━━━━━━━━━━━━━━━\u001b[0m\u001b[37m\u001b[0m \u001b[1m0s\u001b[0m 124ms/step\n",
            "4\n",
            "5\n"
          ]
        },
        {
          "output_type": "stream",
          "name": "stderr",
          "text": [
            "/usr/local/lib/python3.11/dist-packages/keras/src/layers/normalization/batch_normalization.py:142: UserWarning: Do not pass an `input_shape`/`input_dim` argument to a layer. When using Sequential models, prefer using an `Input(shape)` object as the first layer in the model instead.\n",
            "  super().__init__(**kwargs)\n",
            "WARNING:absl:You are saving your model as an HDF5 file via `model.save()` or `keras.saving.save_model(model)`. This file format is considered legacy. We recommend using instead the native Keras format, e.g. `model.save('my_model.keras')` or `keras.saving.save_model(model, 'my_model.keras')`. \n"
          ]
        },
        {
          "output_type": "stream",
          "name": "stdout",
          "text": [
            "\u001b[1m1/1\u001b[0m \u001b[32m━━━━━━━━━━━━━━━━━━━━\u001b[0m\u001b[37m\u001b[0m \u001b[1m0s\u001b[0m 114ms/step\n",
            "5\n",
            "5\n"
          ]
        },
        {
          "output_type": "stream",
          "name": "stderr",
          "text": [
            "/usr/local/lib/python3.11/dist-packages/keras/src/layers/normalization/batch_normalization.py:142: UserWarning: Do not pass an `input_shape`/`input_dim` argument to a layer. When using Sequential models, prefer using an `Input(shape)` object as the first layer in the model instead.\n",
            "  super().__init__(**kwargs)\n",
            "WARNING:absl:You are saving your model as an HDF5 file via `model.save()` or `keras.saving.save_model(model)`. This file format is considered legacy. We recommend using instead the native Keras format, e.g. `model.save('my_model.keras')` or `keras.saving.save_model(model, 'my_model.keras')`. \n"
          ]
        },
        {
          "output_type": "stream",
          "name": "stdout",
          "text": [
            "\u001b[1m1/1\u001b[0m \u001b[32m━━━━━━━━━━━━━━━━━━━━\u001b[0m\u001b[37m\u001b[0m \u001b[1m0s\u001b[0m 112ms/step\n",
            "6\n",
            "5\n"
          ]
        },
        {
          "output_type": "stream",
          "name": "stderr",
          "text": [
            "/usr/local/lib/python3.11/dist-packages/keras/src/layers/normalization/batch_normalization.py:142: UserWarning: Do not pass an `input_shape`/`input_dim` argument to a layer. When using Sequential models, prefer using an `Input(shape)` object as the first layer in the model instead.\n",
            "  super().__init__(**kwargs)\n",
            "WARNING:absl:You are saving your model as an HDF5 file via `model.save()` or `keras.saving.save_model(model)`. This file format is considered legacy. We recommend using instead the native Keras format, e.g. `model.save('my_model.keras')` or `keras.saving.save_model(model, 'my_model.keras')`. \n"
          ]
        },
        {
          "output_type": "stream",
          "name": "stdout",
          "text": [
            "\u001b[1m1/1\u001b[0m \u001b[32m━━━━━━━━━━━━━━━━━━━━\u001b[0m\u001b[37m\u001b[0m \u001b[1m0s\u001b[0m 110ms/step\n",
            "7\n",
            "5\n"
          ]
        },
        {
          "output_type": "stream",
          "name": "stderr",
          "text": [
            "/usr/local/lib/python3.11/dist-packages/keras/src/layers/normalization/batch_normalization.py:142: UserWarning: Do not pass an `input_shape`/`input_dim` argument to a layer. When using Sequential models, prefer using an `Input(shape)` object as the first layer in the model instead.\n",
            "  super().__init__(**kwargs)\n",
            "WARNING:absl:You are saving your model as an HDF5 file via `model.save()` or `keras.saving.save_model(model)`. This file format is considered legacy. We recommend using instead the native Keras format, e.g. `model.save('my_model.keras')` or `keras.saving.save_model(model, 'my_model.keras')`. \n"
          ]
        },
        {
          "output_type": "stream",
          "name": "stdout",
          "text": [
            "\u001b[1m1/1\u001b[0m \u001b[32m━━━━━━━━━━━━━━━━━━━━\u001b[0m\u001b[37m\u001b[0m \u001b[1m0s\u001b[0m 111ms/step\n",
            "8\n",
            "5\n"
          ]
        },
        {
          "output_type": "stream",
          "name": "stderr",
          "text": [
            "/usr/local/lib/python3.11/dist-packages/keras/src/layers/normalization/batch_normalization.py:142: UserWarning: Do not pass an `input_shape`/`input_dim` argument to a layer. When using Sequential models, prefer using an `Input(shape)` object as the first layer in the model instead.\n",
            "  super().__init__(**kwargs)\n",
            "WARNING:absl:You are saving your model as an HDF5 file via `model.save()` or `keras.saving.save_model(model)`. This file format is considered legacy. We recommend using instead the native Keras format, e.g. `model.save('my_model.keras')` or `keras.saving.save_model(model, 'my_model.keras')`. \n"
          ]
        },
        {
          "output_type": "stream",
          "name": "stdout",
          "text": [
            "\u001b[1m1/1\u001b[0m \u001b[32m━━━━━━━━━━━━━━━━━━━━\u001b[0m\u001b[37m\u001b[0m \u001b[1m0s\u001b[0m 111ms/step\n",
            "9\n",
            "5\n"
          ]
        },
        {
          "output_type": "stream",
          "name": "stderr",
          "text": [
            "/usr/local/lib/python3.11/dist-packages/keras/src/layers/normalization/batch_normalization.py:142: UserWarning: Do not pass an `input_shape`/`input_dim` argument to a layer. When using Sequential models, prefer using an `Input(shape)` object as the first layer in the model instead.\n",
            "  super().__init__(**kwargs)\n",
            "WARNING:absl:You are saving your model as an HDF5 file via `model.save()` or `keras.saving.save_model(model)`. This file format is considered legacy. We recommend using instead the native Keras format, e.g. `model.save('my_model.keras')` or `keras.saving.save_model(model, 'my_model.keras')`. \n"
          ]
        },
        {
          "output_type": "stream",
          "name": "stdout",
          "text": [
            "\u001b[1m1/1\u001b[0m \u001b[32m━━━━━━━━━━━━━━━━━━━━\u001b[0m\u001b[37m\u001b[0m \u001b[1m0s\u001b[0m 171ms/step\n"
          ]
        }
      ]
    },
    {
      "cell_type": "markdown",
      "source": [
        "## Capa de Atención"
      ],
      "metadata": {
        "id": "MoDC0j_ZaX-E"
      }
    },
    {
      "cell_type": "code",
      "source": [
        "def build_model_atencion(funcion_activacion, activacion_salida):\n",
        "    # Definir entrada\n",
        "    inputs = Input(shape=(5,))\n",
        "\n",
        "    # Añadir Batch Normalization al inicio\n",
        "    bn_output = BatchNormalization()(inputs)\n",
        "\n",
        "    # Agregar una dimensión extra: (batch_size, timesteps=5, features=1)\n",
        "    reshaped = Reshape((5, 1))(bn_output)\n",
        "    # Aplicar atención (self-attention: Query, Key y Value son la misma entrada)\n",
        "    mha_layer = MultiHeadAttention(num_heads=1, key_dim=1) #Establecer num_heads = 1 es hacer Self-Attention\n",
        "    attention_output, attention_scores = mha_layer(query=reshaped, value=reshaped, key=reshaped, return_attention_scores=True)\n",
        "\n",
        "    # Normalización después de la atención\n",
        "    norm_output = BatchNormalization()(attention_output)\n",
        "\n",
        "    # Aplanar salida\n",
        "    flat_output = Flatten()(norm_output)\n",
        "\n",
        "    # Activación\n",
        "    activated_output = Activation(funcion_activacion)(flat_output)\n",
        "\n",
        "    # Capa de salida\n",
        "    output = Dense(1, activation=activacion_salida)(activated_output)\n",
        "\n",
        "    # Definir modelo\n",
        "    model = Model(inputs=inputs, outputs=[output, attention_scores])\n",
        "\n",
        "    return model"
      ],
      "metadata": {
        "id": "YVO60vd7aaG2"
      },
      "execution_count": 33,
      "outputs": []
    },
    {
      "cell_type": "code",
      "source": [
        "# Path to store model checkpoints\n",
        "checkpoint_atencion_path = \"/content/drive/MyDrive/Embryoxite/atencion_model_checkpoints\"\n",
        "\n",
        "# Path to store results\n",
        "results_atencion_path = \"/content/drive/MyDrive/Embryoxite/atencion_model_checkpoints/results.pickle\""
      ],
      "metadata": {
        "id": "4OAattBqcHVs"
      },
      "execution_count": 15,
      "outputs": []
    },
    {
      "cell_type": "code",
      "source": [
        "# Define optimizer\n",
        "optimizer = 'SGD'\n",
        "\n",
        "# Define metric for compile (Mean Squared Error)\n",
        "metric = 'mean_squared_error'\n",
        "\n",
        "# Define number of splits\n",
        "num_splits = 10\n",
        "\n",
        "# Define empty list to store results\n",
        "results_atencion = []\n",
        "\n",
        "for i in range(num_splits):\n",
        "\n",
        "    print(i)\n",
        "\n",
        "    X_t, X_test, y_t, y_test = train_test_split(X, y_ueq, test_size=0.2)\n",
        "    X_train, X_val, y_train, y_val = train_test_split(X_t, y_t, test_size=0.2)\n",
        "\n",
        "    dummy_attention_targets = np.zeros((X_train.shape[0], 1, 5, 5))  # Dummy target para los attention scores\n",
        "    dummy_attention_targets_val = np.zeros((X_val.shape[0], 1, 5, 5))\n",
        "\n",
        "    atencion = build_model_atencion(funcion_activacion='sigmoid',activacion_salida='linear')\n",
        "    atencion.compile(optimizer=optimizer, loss=[metric, lambda y_true, y_pred: tf.zeros_like(y_pred)])\n",
        "\n",
        "    # Train model with early stopping\n",
        "    history = atencion.fit(X_train, [y_train, dummy_attention_targets], epochs=200, batch_size=32, verbose=0, validation_data=(X_val, [y_val, dummy_attention_targets_val]))\n",
        "\n",
        "    # Save model\n",
        "    atencion.save(os.path.join(checkpoint_atencion_path, f\"atencion_{i}.h5\"))\n",
        "\n",
        "    # Make predictions\n",
        "    predictions_atencion, att_scores = atencion.predict(X_test)\n",
        "    predictions_atencion = predictions_atencion.flatten()\n",
        "\n",
        "    # Calculate errors\n",
        "    errors_end_lineal = predictions_atencion - y_test\n",
        "\n",
        "    weights_first_layer = atencion.layers[4].get_weights()[0] #La capa de la hidden layer en este caso es 2, por el reshape\n",
        "\n",
        "    bn_layer = atencion.layers[1] #La capa de BN de interes es siempre la capa 0\n",
        "    mu = bn_layer.moving_mean.numpy()\n",
        "    sd = np.sqrt(bn_layer.moving_variance.numpy())\n",
        "    beta = bn_layer.beta.numpy()\n",
        "    gamma = bn_layer.gamma.numpy()\n",
        "    parametres = [mu, sd, beta, gamma]\n",
        "\n",
        "    # Store relevant information in a dictionary for atencion model\n",
        "    result = {}\n",
        "    result['split'] = {'train_indices': X_train.index.tolist(), 'test_indices': X_test.index.tolist(), 'val_indices': X_val.index.tolist()}\n",
        "    result['hidden_layer_weights'] = weights_first_layer\n",
        "    result['bn_layer_params'] = parametres\n",
        "    result['mean_prediction_error'] = np.mean(errors_end_lineal)\n",
        "    result['std_prediction_error'] = np.std(errors_end_lineal)\n",
        "    result['mean_percentage_error'] = np.mean((errors_end_lineal / y_test) * 100)\n",
        "    result['std_percentage_error'] = np.std((errors_end_lineal / y_test) * 100)\n",
        "    result['predictions'] = predictions_atencion\n",
        "    result['true_value'] = y_test\n",
        "    result['attention_scores'] = att_scores\n",
        "\n",
        "    # Agregar los diccionarios a la lista de resultados\n",
        "    results_atencion.append({'atencion': result})\n",
        "\n",
        "# Guardar los resultados en un archivo pickle\n",
        "with open(results_atencion_path, 'wb') as f:\n",
        "    pickle.dump(results_atencion, f)"
      ],
      "metadata": {
        "colab": {
          "base_uri": "https://localhost:8080/"
        },
        "collapsed": true,
        "outputId": "cd7bada8-22bb-45c0-de2a-3116edb96ef2",
        "id": "DAjD7QdgcHVv"
      },
      "execution_count": 37,
      "outputs": [
        {
          "output_type": "stream",
          "name": "stdout",
          "text": [
            "0\n"
          ]
        },
        {
          "output_type": "stream",
          "name": "stderr",
          "text": [
            "WARNING:absl:You are saving your model as an HDF5 file via `model.save()` or `keras.saving.save_model(model)`. This file format is considered legacy. We recommend using instead the native Keras format, e.g. `model.save('my_model.keras')` or `keras.saving.save_model(model, 'my_model.keras')`. \n"
          ]
        },
        {
          "output_type": "stream",
          "name": "stdout",
          "text": [
            "\u001b[1m1/1\u001b[0m \u001b[32m━━━━━━━━━━━━━━━━━━━━\u001b[0m\u001b[37m\u001b[0m \u001b[1m0s\u001b[0m 173ms/step\n",
            "1\n"
          ]
        },
        {
          "output_type": "stream",
          "name": "stderr",
          "text": [
            "WARNING:absl:You are saving your model as an HDF5 file via `model.save()` or `keras.saving.save_model(model)`. This file format is considered legacy. We recommend using instead the native Keras format, e.g. `model.save('my_model.keras')` or `keras.saving.save_model(model, 'my_model.keras')`. \n"
          ]
        },
        {
          "output_type": "stream",
          "name": "stdout",
          "text": [
            "\u001b[1m1/1\u001b[0m \u001b[32m━━━━━━━━━━━━━━━━━━━━\u001b[0m\u001b[37m\u001b[0m \u001b[1m0s\u001b[0m 230ms/step\n",
            "2\n"
          ]
        },
        {
          "output_type": "stream",
          "name": "stderr",
          "text": [
            "WARNING:absl:You are saving your model as an HDF5 file via `model.save()` or `keras.saving.save_model(model)`. This file format is considered legacy. We recommend using instead the native Keras format, e.g. `model.save('my_model.keras')` or `keras.saving.save_model(model, 'my_model.keras')`. \n"
          ]
        },
        {
          "output_type": "stream",
          "name": "stdout",
          "text": [
            "\u001b[1m1/1\u001b[0m \u001b[32m━━━━━━━━━━━━━━━━━━━━\u001b[0m\u001b[37m\u001b[0m \u001b[1m0s\u001b[0m 237ms/step\n",
            "3\n"
          ]
        },
        {
          "output_type": "stream",
          "name": "stderr",
          "text": [
            "WARNING:absl:You are saving your model as an HDF5 file via `model.save()` or `keras.saving.save_model(model)`. This file format is considered legacy. We recommend using instead the native Keras format, e.g. `model.save('my_model.keras')` or `keras.saving.save_model(model, 'my_model.keras')`. \n"
          ]
        },
        {
          "output_type": "stream",
          "name": "stdout",
          "text": [
            "\u001b[1m1/1\u001b[0m \u001b[32m━━━━━━━━━━━━━━━━━━━━\u001b[0m\u001b[37m\u001b[0m \u001b[1m0s\u001b[0m 205ms/step\n",
            "4\n"
          ]
        },
        {
          "output_type": "stream",
          "name": "stderr",
          "text": [
            "WARNING:absl:You are saving your model as an HDF5 file via `model.save()` or `keras.saving.save_model(model)`. This file format is considered legacy. We recommend using instead the native Keras format, e.g. `model.save('my_model.keras')` or `keras.saving.save_model(model, 'my_model.keras')`. \n"
          ]
        },
        {
          "output_type": "stream",
          "name": "stdout",
          "text": [
            "\u001b[1m1/1\u001b[0m \u001b[32m━━━━━━━━━━━━━━━━━━━━\u001b[0m\u001b[37m\u001b[0m \u001b[1m0s\u001b[0m 186ms/step\n",
            "5\n"
          ]
        },
        {
          "output_type": "stream",
          "name": "stderr",
          "text": [
            "WARNING:absl:You are saving your model as an HDF5 file via `model.save()` or `keras.saving.save_model(model)`. This file format is considered legacy. We recommend using instead the native Keras format, e.g. `model.save('my_model.keras')` or `keras.saving.save_model(model, 'my_model.keras')`. \n"
          ]
        },
        {
          "output_type": "stream",
          "name": "stdout",
          "text": [
            "\u001b[1m1/1\u001b[0m \u001b[32m━━━━━━━━━━━━━━━━━━━━\u001b[0m\u001b[37m\u001b[0m \u001b[1m0s\u001b[0m 162ms/step\n",
            "6\n"
          ]
        },
        {
          "output_type": "stream",
          "name": "stderr",
          "text": [
            "WARNING:absl:You are saving your model as an HDF5 file via `model.save()` or `keras.saving.save_model(model)`. This file format is considered legacy. We recommend using instead the native Keras format, e.g. `model.save('my_model.keras')` or `keras.saving.save_model(model, 'my_model.keras')`. \n"
          ]
        },
        {
          "output_type": "stream",
          "name": "stdout",
          "text": [
            "\u001b[1m1/1\u001b[0m \u001b[32m━━━━━━━━━━━━━━━━━━━━\u001b[0m\u001b[37m\u001b[0m \u001b[1m0s\u001b[0m 224ms/step\n",
            "7\n"
          ]
        },
        {
          "output_type": "stream",
          "name": "stderr",
          "text": [
            "WARNING:absl:You are saving your model as an HDF5 file via `model.save()` or `keras.saving.save_model(model)`. This file format is considered legacy. We recommend using instead the native Keras format, e.g. `model.save('my_model.keras')` or `keras.saving.save_model(model, 'my_model.keras')`. \n"
          ]
        },
        {
          "output_type": "stream",
          "name": "stdout",
          "text": [
            "\u001b[1m1/1\u001b[0m \u001b[32m━━━━━━━━━━━━━━━━━━━━\u001b[0m\u001b[37m\u001b[0m \u001b[1m0s\u001b[0m 158ms/step\n",
            "8\n"
          ]
        },
        {
          "output_type": "stream",
          "name": "stderr",
          "text": [
            "WARNING:absl:You are saving your model as an HDF5 file via `model.save()` or `keras.saving.save_model(model)`. This file format is considered legacy. We recommend using instead the native Keras format, e.g. `model.save('my_model.keras')` or `keras.saving.save_model(model, 'my_model.keras')`. \n"
          ]
        },
        {
          "output_type": "stream",
          "name": "stdout",
          "text": [
            "\u001b[1m1/1\u001b[0m \u001b[32m━━━━━━━━━━━━━━━━━━━━\u001b[0m\u001b[37m\u001b[0m \u001b[1m0s\u001b[0m 161ms/step\n",
            "9\n"
          ]
        },
        {
          "output_type": "stream",
          "name": "stderr",
          "text": [
            "WARNING:absl:You are saving your model as an HDF5 file via `model.save()` or `keras.saving.save_model(model)`. This file format is considered legacy. We recommend using instead the native Keras format, e.g. `model.save('my_model.keras')` or `keras.saving.save_model(model, 'my_model.keras')`. \n"
          ]
        },
        {
          "output_type": "stream",
          "name": "stdout",
          "text": [
            "\u001b[1m1/1\u001b[0m \u001b[32m━━━━━━━━━━━━━━━━━━━━\u001b[0m\u001b[37m\u001b[0m \u001b[1m0s\u001b[0m 159ms/step\n"
          ]
        }
      ]
    },
    {
      "cell_type": "markdown",
      "source": [
        "# Uso de capa convolucional vs capa atencional"
      ],
      "metadata": {
        "id": "hdj1LOQW3Ypd"
      }
    },
    {
      "cell_type": "markdown",
      "source": [
        "Dado el problema de regresión en el cual se estima el valor de Ueq, tomando en cuenta la concentración de urea previa, 120 minutos después de comenzar, y post-hemodiálisis, así como las variables de PP y UF, se solicitó analizar el uso de una capa convolucional o atencional en lugar de una capa densa."
      ],
      "metadata": {
        "id": "HqYKzgVOEH7H"
      }
    },
    {
      "cell_type": "markdown",
      "source": [
        "## Capa convolucional"
      ],
      "metadata": {
        "id": "j-HbYUSHEPAQ"
      }
    },
    {
      "cell_type": "markdown",
      "source": [
        "Las capas convolucionales están diseñadas para extraer patrones locales aprovechando una estructura de orden en los datos, como es el caso de imágenes o series temporales. En este caso, el conjunto de datos, en principio, no posee un orden intrínseco, es decir, no existe una relación de vecindad entre las variables de entrada. Es por esto que el utilizar una capa convolucional en este caso carece de sentido.\n",
        "\n",
        "Si existen combinaciones particulares de features que aporten valor a la estimación que se busca, se podría imponer un orden arbitrario. En ese caso, tendría más sentido utilizar este tipo de capa. De todas formas, al tener únicamente 5 variables de entrada, el potencial de capturar patrones locales mediante una convolución es reducido. Para que tenga sentido, se debería aumentar la cantidad de variables en la entrada y además, imponer un orden en caso de que se pueda."
      ],
      "metadata": {
        "id": "jXRgaivUEQwB"
      }
    },
    {
      "cell_type": "markdown",
      "source": [
        "## Capa de atención"
      ],
      "metadata": {
        "id": "bwOkZb8qEMNT"
      }
    },
    {
      "cell_type": "markdown",
      "source": [
        "Las capas de atención son especialmente útiles en problemas donde la entrada se presenta como una secuencia y se requiere analizar el contexto y las interrelaciones entre sus elementos, incluso cuando estos se encuentran distanciados dentro de la misma. Estas capas permiten capturar relaciones complejas e interacciones entre las variables de entrada, lo que puede mejorar la predicción de la variable de salida. De esta forma, se obtiene un mayor entendimiento sobre las combinaciones de features más relevantes para la estimación deseada.\n",
        "\n",
        "En el contexto específico del problema planteado, tiene sentido usar capas atencionales debido a su aporte de información adicional. A partir de la capa de *Batch Normalization* se obtiene información sobre qué feature individual es importante en la estimación de Ueq y además, a partir de la capa de atención, se adquiere información sobre qué combinación de features es relevante en la estimación. De esta forma, no solo se conocen las variables de entrada que deben estar presentes para la estimación, sino que además también sabemos que combinación de ellas se deben incluir.\n",
        "\n",
        "A pesar de los beneficios recién mencionados, el uso de estas capas presenta limitaciones que deben ser tenidas en cuenta. Una de las principales es el riesgo de sobreajuste, ya que las capas de atención tienden a sobreajustarse en contextos con pocos datos. Dado que el conjunto de datos actual es pequeño, se debe tener especial cuidado de no incrementar la complejidad del modelo, para que no supere la cantidad de información disponible. Para mitigar este riesgo, se utilizó una capa de atención sencilla, con dimensiones bajas (1) y con un número bajo de cabezas (1). Además, se implementó el mecanismo de Self-Attention, en donde el **Query, Key** y **Value** son la misma entrada, evitando así una mayor complejidad al no introducir componentes adicionales. Sin embargo, también se debe considerar que utilizar dimensiones bajas para los vectores de **Query, Key** y **Value** podría resultar en representaciones que no modelen correctamente relaciones complejas.\n",
        "\n",
        "Además, la atención es especialmente poderosa en escenarios con secuencias largas o cuando se necesita aprender relaciones complejas entre muchos elementos. Este no es el caso de este problema, en donde el dataset incluye solo 5 variables de entrada. Es por esto que, el beneficio de aplicar un mecanismo de atención puede ser marginal en comparación con el uso de un enfoque más sencillo. Aún así, la capa de atención permite analizar las combinaciones de variables más relevantes, lo que puede aportar valor en este contexto, como ya fue mencionado.\n",
        "\n",
        "Por último, es importante destacar que las variables de entrada no tienen un orden secuencial natural. Por lo tanto, el mecanismo de atención podría aprender relaciones basadas en un orden arbitario, dificultando la interpretación de la relación entre variable de entrada. Debido a estas limitaciones, para que el uso de la capa de atención sea más efectivo, se recimienda, en la medida de lo posible, ampliar la cantidad de muestras en el conjunto de datos, incluir más features por muestra y, tal vez, trabajar con características que tengan un orden secuencial."
      ],
      "metadata": {
        "id": "HLH-MKsE3jZC"
      }
    },
    {
      "cell_type": "markdown",
      "source": [
        "## Consideraciones comunes"
      ],
      "metadata": {
        "id": "PWPFO3LFIBG5"
      }
    },
    {
      "cell_type": "markdown",
      "source": [
        "Para ambos casos, para evaluar el rendimiento de ambos modelos (uno con capa convolucional y otro con capa atencional), se debería buscar la mejor combinación de parámetros para obtener el modelo óptimo para este problema de regresión. De esta forma, se puede determinar de manera más precisa cuál modelo se adapta mejor al problema de regresión en cuestión, evidenciando de forma clara los beneficios y limitaciones inherentes al uso de cada tipo de capa.\n",
        "\n",
        "Aunque la búsqueda del modelo óptimo puede resaltar las fortalezas de cada método, las observaciones y limitaciones respecto al uso de estas capas en el conjunto de datos presentado seguirán siendo relevantes."
      ],
      "metadata": {
        "id": "Rh-1iSguICvt"
      }
    },
    {
      "cell_type": "markdown",
      "source": [
        "# Comparación"
      ],
      "metadata": {
        "id": "ePWA6o68P2B7"
      }
    },
    {
      "cell_type": "markdown",
      "source": [
        "## Arquitecturas"
      ],
      "metadata": {
        "id": "wp_87LYKZnMA"
      }
    },
    {
      "cell_type": "code",
      "source": [
        "print('MODELO DLNNe2e:')\n",
        "DLNNe2e.summary()\n",
        "print('\\nMODELO Conv:')\n",
        "conv.summary()\n",
        "print('\\nMODELO Atención:')\n",
        "atencion.summary()"
      ],
      "metadata": {
        "colab": {
          "base_uri": "https://localhost:8080/",
          "height": 1000
        },
        "id": "iU3woSnzP3ml",
        "outputId": "10963176-220b-418b-c284-990e2d85af50"
      },
      "execution_count": 38,
      "outputs": [
        {
          "output_type": "stream",
          "name": "stdout",
          "text": [
            "MODELO DLNNe2e:\n"
          ]
        },
        {
          "output_type": "display_data",
          "data": {
            "text/plain": [
              "\u001b[1mModel: \"sequential_9\"\u001b[0m\n"
            ],
            "text/html": [
              "<pre style=\"white-space:pre;overflow-x:auto;line-height:normal;font-family:Menlo,'DejaVu Sans Mono',consolas,'Courier New',monospace\"><span style=\"font-weight: bold\">Model: \"sequential_9\"</span>\n",
              "</pre>\n"
            ]
          },
          "metadata": {}
        },
        {
          "output_type": "display_data",
          "data": {
            "text/plain": [
              "┏━━━━━━━━━━━━━━━━━━━━━━━━━━━━━━━━━━━━━━┳━━━━━━━━━━━━━━━━━━━━━━━━━━━━━┳━━━━━━━━━━━━━━━━━┓\n",
              "┃\u001b[1m \u001b[0m\u001b[1mLayer (type)                        \u001b[0m\u001b[1m \u001b[0m┃\u001b[1m \u001b[0m\u001b[1mOutput Shape               \u001b[0m\u001b[1m \u001b[0m┃\u001b[1m \u001b[0m\u001b[1m        Param #\u001b[0m\u001b[1m \u001b[0m┃\n",
              "┡━━━━━━━━━━━━━━━━━━━━━━━━━━━━━━━━━━━━━━╇━━━━━━━━━━━━━━━━━━━━━━━━━━━━━╇━━━━━━━━━━━━━━━━━┩\n",
              "│ batch_normalization_18               │ (\u001b[38;5;45mNone\u001b[0m, \u001b[38;5;34m5\u001b[0m)                   │              \u001b[38;5;34m20\u001b[0m │\n",
              "│ (\u001b[38;5;33mBatchNormalization\u001b[0m)                 │                             │                 │\n",
              "├──────────────────────────────────────┼─────────────────────────────┼─────────────────┤\n",
              "│ dense_18 (\u001b[38;5;33mDense\u001b[0m)                     │ (\u001b[38;5;45mNone\u001b[0m, \u001b[38;5;34m6\u001b[0m)                   │              \u001b[38;5;34m36\u001b[0m │\n",
              "├──────────────────────────────────────┼─────────────────────────────┼─────────────────┤\n",
              "│ batch_normalization_19               │ (\u001b[38;5;45mNone\u001b[0m, \u001b[38;5;34m6\u001b[0m)                   │              \u001b[38;5;34m24\u001b[0m │\n",
              "│ (\u001b[38;5;33mBatchNormalization\u001b[0m)                 │                             │                 │\n",
              "├──────────────────────────────────────┼─────────────────────────────┼─────────────────┤\n",
              "│ activation_9 (\u001b[38;5;33mActivation\u001b[0m)            │ (\u001b[38;5;45mNone\u001b[0m, \u001b[38;5;34m6\u001b[0m)                   │               \u001b[38;5;34m0\u001b[0m │\n",
              "├──────────────────────────────────────┼─────────────────────────────┼─────────────────┤\n",
              "│ dense_19 (\u001b[38;5;33mDense\u001b[0m)                     │ (\u001b[38;5;45mNone\u001b[0m, \u001b[38;5;34m1\u001b[0m)                   │               \u001b[38;5;34m7\u001b[0m │\n",
              "└──────────────────────────────────────┴─────────────────────────────┴─────────────────┘\n"
            ],
            "text/html": [
              "<pre style=\"white-space:pre;overflow-x:auto;line-height:normal;font-family:Menlo,'DejaVu Sans Mono',consolas,'Courier New',monospace\">┏━━━━━━━━━━━━━━━━━━━━━━━━━━━━━━━━━━━━━━┳━━━━━━━━━━━━━━━━━━━━━━━━━━━━━┳━━━━━━━━━━━━━━━━━┓\n",
              "┃<span style=\"font-weight: bold\"> Layer (type)                         </span>┃<span style=\"font-weight: bold\"> Output Shape                </span>┃<span style=\"font-weight: bold\">         Param # </span>┃\n",
              "┡━━━━━━━━━━━━━━━━━━━━━━━━━━━━━━━━━━━━━━╇━━━━━━━━━━━━━━━━━━━━━━━━━━━━━╇━━━━━━━━━━━━━━━━━┩\n",
              "│ batch_normalization_18               │ (<span style=\"color: #00d7ff; text-decoration-color: #00d7ff\">None</span>, <span style=\"color: #00af00; text-decoration-color: #00af00\">5</span>)                   │              <span style=\"color: #00af00; text-decoration-color: #00af00\">20</span> │\n",
              "│ (<span style=\"color: #0087ff; text-decoration-color: #0087ff\">BatchNormalization</span>)                 │                             │                 │\n",
              "├──────────────────────────────────────┼─────────────────────────────┼─────────────────┤\n",
              "│ dense_18 (<span style=\"color: #0087ff; text-decoration-color: #0087ff\">Dense</span>)                     │ (<span style=\"color: #00d7ff; text-decoration-color: #00d7ff\">None</span>, <span style=\"color: #00af00; text-decoration-color: #00af00\">6</span>)                   │              <span style=\"color: #00af00; text-decoration-color: #00af00\">36</span> │\n",
              "├──────────────────────────────────────┼─────────────────────────────┼─────────────────┤\n",
              "│ batch_normalization_19               │ (<span style=\"color: #00d7ff; text-decoration-color: #00d7ff\">None</span>, <span style=\"color: #00af00; text-decoration-color: #00af00\">6</span>)                   │              <span style=\"color: #00af00; text-decoration-color: #00af00\">24</span> │\n",
              "│ (<span style=\"color: #0087ff; text-decoration-color: #0087ff\">BatchNormalization</span>)                 │                             │                 │\n",
              "├──────────────────────────────────────┼─────────────────────────────┼─────────────────┤\n",
              "│ activation_9 (<span style=\"color: #0087ff; text-decoration-color: #0087ff\">Activation</span>)            │ (<span style=\"color: #00d7ff; text-decoration-color: #00d7ff\">None</span>, <span style=\"color: #00af00; text-decoration-color: #00af00\">6</span>)                   │               <span style=\"color: #00af00; text-decoration-color: #00af00\">0</span> │\n",
              "├──────────────────────────────────────┼─────────────────────────────┼─────────────────┤\n",
              "│ dense_19 (<span style=\"color: #0087ff; text-decoration-color: #0087ff\">Dense</span>)                     │ (<span style=\"color: #00d7ff; text-decoration-color: #00d7ff\">None</span>, <span style=\"color: #00af00; text-decoration-color: #00af00\">1</span>)                   │               <span style=\"color: #00af00; text-decoration-color: #00af00\">7</span> │\n",
              "└──────────────────────────────────────┴─────────────────────────────┴─────────────────┘\n",
              "</pre>\n"
            ]
          },
          "metadata": {}
        },
        {
          "output_type": "display_data",
          "data": {
            "text/plain": [
              "\u001b[1m Total params: \u001b[0m\u001b[38;5;34m89\u001b[0m (360.00 B)\n"
            ],
            "text/html": [
              "<pre style=\"white-space:pre;overflow-x:auto;line-height:normal;font-family:Menlo,'DejaVu Sans Mono',consolas,'Courier New',monospace\"><span style=\"font-weight: bold\"> Total params: </span><span style=\"color: #00af00; text-decoration-color: #00af00\">89</span> (360.00 B)\n",
              "</pre>\n"
            ]
          },
          "metadata": {}
        },
        {
          "output_type": "display_data",
          "data": {
            "text/plain": [
              "\u001b[1m Trainable params: \u001b[0m\u001b[38;5;34m65\u001b[0m (260.00 B)\n"
            ],
            "text/html": [
              "<pre style=\"white-space:pre;overflow-x:auto;line-height:normal;font-family:Menlo,'DejaVu Sans Mono',consolas,'Courier New',monospace\"><span style=\"font-weight: bold\"> Trainable params: </span><span style=\"color: #00af00; text-decoration-color: #00af00\">65</span> (260.00 B)\n",
              "</pre>\n"
            ]
          },
          "metadata": {}
        },
        {
          "output_type": "display_data",
          "data": {
            "text/plain": [
              "\u001b[1m Non-trainable params: \u001b[0m\u001b[38;5;34m22\u001b[0m (88.00 B)\n"
            ],
            "text/html": [
              "<pre style=\"white-space:pre;overflow-x:auto;line-height:normal;font-family:Menlo,'DejaVu Sans Mono',consolas,'Courier New',monospace\"><span style=\"font-weight: bold\"> Non-trainable params: </span><span style=\"color: #00af00; text-decoration-color: #00af00\">22</span> (88.00 B)\n",
              "</pre>\n"
            ]
          },
          "metadata": {}
        },
        {
          "output_type": "display_data",
          "data": {
            "text/plain": [
              "\u001b[1m Optimizer params: \u001b[0m\u001b[38;5;34m2\u001b[0m (12.00 B)\n"
            ],
            "text/html": [
              "<pre style=\"white-space:pre;overflow-x:auto;line-height:normal;font-family:Menlo,'DejaVu Sans Mono',consolas,'Courier New',monospace\"><span style=\"font-weight: bold\"> Optimizer params: </span><span style=\"color: #00af00; text-decoration-color: #00af00\">2</span> (12.00 B)\n",
              "</pre>\n"
            ]
          },
          "metadata": {}
        },
        {
          "output_type": "stream",
          "name": "stdout",
          "text": [
            "\n",
            "MODELO Conv:\n"
          ]
        },
        {
          "output_type": "display_data",
          "data": {
            "text/plain": [
              "\u001b[1mModel: \"sequential_19\"\u001b[0m\n"
            ],
            "text/html": [
              "<pre style=\"white-space:pre;overflow-x:auto;line-height:normal;font-family:Menlo,'DejaVu Sans Mono',consolas,'Courier New',monospace\"><span style=\"font-weight: bold\">Model: \"sequential_19\"</span>\n",
              "</pre>\n"
            ]
          },
          "metadata": {}
        },
        {
          "output_type": "display_data",
          "data": {
            "text/plain": [
              "┏━━━━━━━━━━━━━━━━━━━━━━━━━━━━━━━━━━━━━━┳━━━━━━━━━━━━━━━━━━━━━━━━━━━━━┳━━━━━━━━━━━━━━━━━┓\n",
              "┃\u001b[1m \u001b[0m\u001b[1mLayer (type)                        \u001b[0m\u001b[1m \u001b[0m┃\u001b[1m \u001b[0m\u001b[1mOutput Shape               \u001b[0m\u001b[1m \u001b[0m┃\u001b[1m \u001b[0m\u001b[1m        Param #\u001b[0m\u001b[1m \u001b[0m┃\n",
              "┡━━━━━━━━━━━━━━━━━━━━━━━━━━━━━━━━━━━━━━╇━━━━━━━━━━━━━━━━━━━━━━━━━━━━━╇━━━━━━━━━━━━━━━━━┩\n",
              "│ batch_normalization_38               │ (\u001b[38;5;45mNone\u001b[0m, \u001b[38;5;34m5\u001b[0m)                   │              \u001b[38;5;34m20\u001b[0m │\n",
              "│ (\u001b[38;5;33mBatchNormalization\u001b[0m)                 │                             │                 │\n",
              "├──────────────────────────────────────┼─────────────────────────────┼─────────────────┤\n",
              "│ reshape_9 (\u001b[38;5;33mReshape\u001b[0m)                  │ (\u001b[38;5;45mNone\u001b[0m, \u001b[38;5;34m5\u001b[0m, \u001b[38;5;34m1\u001b[0m)                │               \u001b[38;5;34m0\u001b[0m │\n",
              "├──────────────────────────────────────┼─────────────────────────────┼─────────────────┤\n",
              "│ conv1d_9 (\u001b[38;5;33mConv1D\u001b[0m)                    │ (\u001b[38;5;45mNone\u001b[0m, \u001b[38;5;34m5\u001b[0m, \u001b[38;5;34m32\u001b[0m)               │              \u001b[38;5;34m96\u001b[0m │\n",
              "├──────────────────────────────────────┼─────────────────────────────┼─────────────────┤\n",
              "│ batch_normalization_39               │ (\u001b[38;5;45mNone\u001b[0m, \u001b[38;5;34m5\u001b[0m, \u001b[38;5;34m32\u001b[0m)               │             \u001b[38;5;34m128\u001b[0m │\n",
              "│ (\u001b[38;5;33mBatchNormalization\u001b[0m)                 │                             │                 │\n",
              "├──────────────────────────────────────┼─────────────────────────────┼─────────────────┤\n",
              "│ flatten_9 (\u001b[38;5;33mFlatten\u001b[0m)                  │ (\u001b[38;5;45mNone\u001b[0m, \u001b[38;5;34m160\u001b[0m)                 │               \u001b[38;5;34m0\u001b[0m │\n",
              "├──────────────────────────────────────┼─────────────────────────────┼─────────────────┤\n",
              "│ activation_19 (\u001b[38;5;33mActivation\u001b[0m)           │ (\u001b[38;5;45mNone\u001b[0m, \u001b[38;5;34m160\u001b[0m)                 │               \u001b[38;5;34m0\u001b[0m │\n",
              "├──────────────────────────────────────┼─────────────────────────────┼─────────────────┤\n",
              "│ dense_29 (\u001b[38;5;33mDense\u001b[0m)                     │ (\u001b[38;5;45mNone\u001b[0m, \u001b[38;5;34m1\u001b[0m)                   │             \u001b[38;5;34m161\u001b[0m │\n",
              "└──────────────────────────────────────┴─────────────────────────────┴─────────────────┘\n"
            ],
            "text/html": [
              "<pre style=\"white-space:pre;overflow-x:auto;line-height:normal;font-family:Menlo,'DejaVu Sans Mono',consolas,'Courier New',monospace\">┏━━━━━━━━━━━━━━━━━━━━━━━━━━━━━━━━━━━━━━┳━━━━━━━━━━━━━━━━━━━━━━━━━━━━━┳━━━━━━━━━━━━━━━━━┓\n",
              "┃<span style=\"font-weight: bold\"> Layer (type)                         </span>┃<span style=\"font-weight: bold\"> Output Shape                </span>┃<span style=\"font-weight: bold\">         Param # </span>┃\n",
              "┡━━━━━━━━━━━━━━━━━━━━━━━━━━━━━━━━━━━━━━╇━━━━━━━━━━━━━━━━━━━━━━━━━━━━━╇━━━━━━━━━━━━━━━━━┩\n",
              "│ batch_normalization_38               │ (<span style=\"color: #00d7ff; text-decoration-color: #00d7ff\">None</span>, <span style=\"color: #00af00; text-decoration-color: #00af00\">5</span>)                   │              <span style=\"color: #00af00; text-decoration-color: #00af00\">20</span> │\n",
              "│ (<span style=\"color: #0087ff; text-decoration-color: #0087ff\">BatchNormalization</span>)                 │                             │                 │\n",
              "├──────────────────────────────────────┼─────────────────────────────┼─────────────────┤\n",
              "│ reshape_9 (<span style=\"color: #0087ff; text-decoration-color: #0087ff\">Reshape</span>)                  │ (<span style=\"color: #00d7ff; text-decoration-color: #00d7ff\">None</span>, <span style=\"color: #00af00; text-decoration-color: #00af00\">5</span>, <span style=\"color: #00af00; text-decoration-color: #00af00\">1</span>)                │               <span style=\"color: #00af00; text-decoration-color: #00af00\">0</span> │\n",
              "├──────────────────────────────────────┼─────────────────────────────┼─────────────────┤\n",
              "│ conv1d_9 (<span style=\"color: #0087ff; text-decoration-color: #0087ff\">Conv1D</span>)                    │ (<span style=\"color: #00d7ff; text-decoration-color: #00d7ff\">None</span>, <span style=\"color: #00af00; text-decoration-color: #00af00\">5</span>, <span style=\"color: #00af00; text-decoration-color: #00af00\">32</span>)               │              <span style=\"color: #00af00; text-decoration-color: #00af00\">96</span> │\n",
              "├──────────────────────────────────────┼─────────────────────────────┼─────────────────┤\n",
              "│ batch_normalization_39               │ (<span style=\"color: #00d7ff; text-decoration-color: #00d7ff\">None</span>, <span style=\"color: #00af00; text-decoration-color: #00af00\">5</span>, <span style=\"color: #00af00; text-decoration-color: #00af00\">32</span>)               │             <span style=\"color: #00af00; text-decoration-color: #00af00\">128</span> │\n",
              "│ (<span style=\"color: #0087ff; text-decoration-color: #0087ff\">BatchNormalization</span>)                 │                             │                 │\n",
              "├──────────────────────────────────────┼─────────────────────────────┼─────────────────┤\n",
              "│ flatten_9 (<span style=\"color: #0087ff; text-decoration-color: #0087ff\">Flatten</span>)                  │ (<span style=\"color: #00d7ff; text-decoration-color: #00d7ff\">None</span>, <span style=\"color: #00af00; text-decoration-color: #00af00\">160</span>)                 │               <span style=\"color: #00af00; text-decoration-color: #00af00\">0</span> │\n",
              "├──────────────────────────────────────┼─────────────────────────────┼─────────────────┤\n",
              "│ activation_19 (<span style=\"color: #0087ff; text-decoration-color: #0087ff\">Activation</span>)           │ (<span style=\"color: #00d7ff; text-decoration-color: #00d7ff\">None</span>, <span style=\"color: #00af00; text-decoration-color: #00af00\">160</span>)                 │               <span style=\"color: #00af00; text-decoration-color: #00af00\">0</span> │\n",
              "├──────────────────────────────────────┼─────────────────────────────┼─────────────────┤\n",
              "│ dense_29 (<span style=\"color: #0087ff; text-decoration-color: #0087ff\">Dense</span>)                     │ (<span style=\"color: #00d7ff; text-decoration-color: #00d7ff\">None</span>, <span style=\"color: #00af00; text-decoration-color: #00af00\">1</span>)                   │             <span style=\"color: #00af00; text-decoration-color: #00af00\">161</span> │\n",
              "└──────────────────────────────────────┴─────────────────────────────┴─────────────────┘\n",
              "</pre>\n"
            ]
          },
          "metadata": {}
        },
        {
          "output_type": "display_data",
          "data": {
            "text/plain": [
              "\u001b[1m Total params: \u001b[0m\u001b[38;5;34m407\u001b[0m (1.59 KB)\n"
            ],
            "text/html": [
              "<pre style=\"white-space:pre;overflow-x:auto;line-height:normal;font-family:Menlo,'DejaVu Sans Mono',consolas,'Courier New',monospace\"><span style=\"font-weight: bold\"> Total params: </span><span style=\"color: #00af00; text-decoration-color: #00af00\">407</span> (1.59 KB)\n",
              "</pre>\n"
            ]
          },
          "metadata": {}
        },
        {
          "output_type": "display_data",
          "data": {
            "text/plain": [
              "\u001b[1m Trainable params: \u001b[0m\u001b[38;5;34m331\u001b[0m (1.29 KB)\n"
            ],
            "text/html": [
              "<pre style=\"white-space:pre;overflow-x:auto;line-height:normal;font-family:Menlo,'DejaVu Sans Mono',consolas,'Courier New',monospace\"><span style=\"font-weight: bold\"> Trainable params: </span><span style=\"color: #00af00; text-decoration-color: #00af00\">331</span> (1.29 KB)\n",
              "</pre>\n"
            ]
          },
          "metadata": {}
        },
        {
          "output_type": "display_data",
          "data": {
            "text/plain": [
              "\u001b[1m Non-trainable params: \u001b[0m\u001b[38;5;34m74\u001b[0m (296.00 B)\n"
            ],
            "text/html": [
              "<pre style=\"white-space:pre;overflow-x:auto;line-height:normal;font-family:Menlo,'DejaVu Sans Mono',consolas,'Courier New',monospace\"><span style=\"font-weight: bold\"> Non-trainable params: </span><span style=\"color: #00af00; text-decoration-color: #00af00\">74</span> (296.00 B)\n",
              "</pre>\n"
            ]
          },
          "metadata": {}
        },
        {
          "output_type": "display_data",
          "data": {
            "text/plain": [
              "\u001b[1m Optimizer params: \u001b[0m\u001b[38;5;34m2\u001b[0m (12.00 B)\n"
            ],
            "text/html": [
              "<pre style=\"white-space:pre;overflow-x:auto;line-height:normal;font-family:Menlo,'DejaVu Sans Mono',consolas,'Courier New',monospace\"><span style=\"font-weight: bold\"> Optimizer params: </span><span style=\"color: #00af00; text-decoration-color: #00af00\">2</span> (12.00 B)\n",
              "</pre>\n"
            ]
          },
          "metadata": {}
        },
        {
          "output_type": "stream",
          "name": "stdout",
          "text": [
            "\n",
            "MODELO Atención:\n"
          ]
        },
        {
          "output_type": "display_data",
          "data": {
            "text/plain": [
              "\u001b[1mModel: \"functional_163\"\u001b[0m\n"
            ],
            "text/html": [
              "<pre style=\"white-space:pre;overflow-x:auto;line-height:normal;font-family:Menlo,'DejaVu Sans Mono',consolas,'Courier New',monospace\"><span style=\"font-weight: bold\">Model: \"functional_163\"</span>\n",
              "</pre>\n"
            ]
          },
          "metadata": {}
        },
        {
          "output_type": "display_data",
          "data": {
            "text/plain": [
              "┏━━━━━━━━━━━━━━━━━━━━━━━━━━━┳━━━━━━━━━━━━━━━━━━━━━━━━┳━━━━━━━━━━━━━━━━┳━━━━━━━━━━━━━━━━━━━━━━━━┓\n",
              "┃\u001b[1m \u001b[0m\u001b[1mLayer (type)             \u001b[0m\u001b[1m \u001b[0m┃\u001b[1m \u001b[0m\u001b[1mOutput Shape          \u001b[0m\u001b[1m \u001b[0m┃\u001b[1m \u001b[0m\u001b[1m       Param #\u001b[0m\u001b[1m \u001b[0m┃\u001b[1m \u001b[0m\u001b[1mConnected to          \u001b[0m\u001b[1m \u001b[0m┃\n",
              "┡━━━━━━━━━━━━━━━━━━━━━━━━━━━╇━━━━━━━━━━━━━━━━━━━━━━━━╇━━━━━━━━━━━━━━━━╇━━━━━━━━━━━━━━━━━━━━━━━━┩\n",
              "│ input_layer_43            │ (\u001b[38;5;45mNone\u001b[0m, \u001b[38;5;34m5\u001b[0m)              │              \u001b[38;5;34m0\u001b[0m │ -                      │\n",
              "│ (\u001b[38;5;33mInputLayer\u001b[0m)              │                        │                │                        │\n",
              "├───────────────────────────┼────────────────────────┼────────────────┼────────────────────────┤\n",
              "│ batch_normalization_86    │ (\u001b[38;5;45mNone\u001b[0m, \u001b[38;5;34m5\u001b[0m)              │             \u001b[38;5;34m20\u001b[0m │ input_layer_43[\u001b[38;5;34m0\u001b[0m][\u001b[38;5;34m0\u001b[0m]   │\n",
              "│ (\u001b[38;5;33mBatchNormalization\u001b[0m)      │                        │                │                        │\n",
              "├───────────────────────────┼────────────────────────┼────────────────┼────────────────────────┤\n",
              "│ reshape_33 (\u001b[38;5;33mReshape\u001b[0m)      │ (\u001b[38;5;45mNone\u001b[0m, \u001b[38;5;34m5\u001b[0m, \u001b[38;5;34m1\u001b[0m)           │              \u001b[38;5;34m0\u001b[0m │ batch_normalization_8… │\n",
              "├───────────────────────────┼────────────────────────┼────────────────┼────────────────────────┤\n",
              "│ multi_head_attention_13   │ [(\u001b[38;5;45mNone\u001b[0m, \u001b[38;5;34m5\u001b[0m, \u001b[38;5;34m1\u001b[0m), (\u001b[38;5;45mNone\u001b[0m,  │              \u001b[38;5;34m8\u001b[0m │ reshape_33[\u001b[38;5;34m0\u001b[0m][\u001b[38;5;34m0\u001b[0m],      │\n",
              "│ (\u001b[38;5;33mMultiHeadAttention\u001b[0m)      │ \u001b[38;5;34m1\u001b[0m, \u001b[38;5;34m5\u001b[0m, \u001b[38;5;34m5\u001b[0m)]              │                │ reshape_33[\u001b[38;5;34m0\u001b[0m][\u001b[38;5;34m0\u001b[0m],      │\n",
              "│                           │                        │                │ reshape_33[\u001b[38;5;34m0\u001b[0m][\u001b[38;5;34m0\u001b[0m]       │\n",
              "├───────────────────────────┼────────────────────────┼────────────────┼────────────────────────┤\n",
              "│ batch_normalization_87    │ (\u001b[38;5;45mNone\u001b[0m, \u001b[38;5;34m5\u001b[0m, \u001b[38;5;34m1\u001b[0m)           │              \u001b[38;5;34m4\u001b[0m │ multi_head_attention_… │\n",
              "│ (\u001b[38;5;33mBatchNormalization\u001b[0m)      │                        │                │                        │\n",
              "├───────────────────────────┼────────────────────────┼────────────────┼────────────────────────┤\n",
              "│ flatten_33 (\u001b[38;5;33mFlatten\u001b[0m)      │ (\u001b[38;5;45mNone\u001b[0m, \u001b[38;5;34m5\u001b[0m)              │              \u001b[38;5;34m0\u001b[0m │ batch_normalization_8… │\n",
              "├───────────────────────────┼────────────────────────┼────────────────┼────────────────────────┤\n",
              "│ activation_43             │ (\u001b[38;5;45mNone\u001b[0m, \u001b[38;5;34m5\u001b[0m)              │              \u001b[38;5;34m0\u001b[0m │ flatten_33[\u001b[38;5;34m0\u001b[0m][\u001b[38;5;34m0\u001b[0m]       │\n",
              "│ (\u001b[38;5;33mActivation\u001b[0m)              │                        │                │                        │\n",
              "├───────────────────────────┼────────────────────────┼────────────────┼────────────────────────┤\n",
              "│ dense_53 (\u001b[38;5;33mDense\u001b[0m)          │ (\u001b[38;5;45mNone\u001b[0m, \u001b[38;5;34m1\u001b[0m)              │              \u001b[38;5;34m6\u001b[0m │ activation_43[\u001b[38;5;34m0\u001b[0m][\u001b[38;5;34m0\u001b[0m]    │\n",
              "└───────────────────────────┴────────────────────────┴────────────────┴────────────────────────┘\n"
            ],
            "text/html": [
              "<pre style=\"white-space:pre;overflow-x:auto;line-height:normal;font-family:Menlo,'DejaVu Sans Mono',consolas,'Courier New',monospace\">┏━━━━━━━━━━━━━━━━━━━━━━━━━━━┳━━━━━━━━━━━━━━━━━━━━━━━━┳━━━━━━━━━━━━━━━━┳━━━━━━━━━━━━━━━━━━━━━━━━┓\n",
              "┃<span style=\"font-weight: bold\"> Layer (type)              </span>┃<span style=\"font-weight: bold\"> Output Shape           </span>┃<span style=\"font-weight: bold\">        Param # </span>┃<span style=\"font-weight: bold\"> Connected to           </span>┃\n",
              "┡━━━━━━━━━━━━━━━━━━━━━━━━━━━╇━━━━━━━━━━━━━━━━━━━━━━━━╇━━━━━━━━━━━━━━━━╇━━━━━━━━━━━━━━━━━━━━━━━━┩\n",
              "│ input_layer_43            │ (<span style=\"color: #00d7ff; text-decoration-color: #00d7ff\">None</span>, <span style=\"color: #00af00; text-decoration-color: #00af00\">5</span>)              │              <span style=\"color: #00af00; text-decoration-color: #00af00\">0</span> │ -                      │\n",
              "│ (<span style=\"color: #0087ff; text-decoration-color: #0087ff\">InputLayer</span>)              │                        │                │                        │\n",
              "├───────────────────────────┼────────────────────────┼────────────────┼────────────────────────┤\n",
              "│ batch_normalization_86    │ (<span style=\"color: #00d7ff; text-decoration-color: #00d7ff\">None</span>, <span style=\"color: #00af00; text-decoration-color: #00af00\">5</span>)              │             <span style=\"color: #00af00; text-decoration-color: #00af00\">20</span> │ input_layer_43[<span style=\"color: #00af00; text-decoration-color: #00af00\">0</span>][<span style=\"color: #00af00; text-decoration-color: #00af00\">0</span>]   │\n",
              "│ (<span style=\"color: #0087ff; text-decoration-color: #0087ff\">BatchNormalization</span>)      │                        │                │                        │\n",
              "├───────────────────────────┼────────────────────────┼────────────────┼────────────────────────┤\n",
              "│ reshape_33 (<span style=\"color: #0087ff; text-decoration-color: #0087ff\">Reshape</span>)      │ (<span style=\"color: #00d7ff; text-decoration-color: #00d7ff\">None</span>, <span style=\"color: #00af00; text-decoration-color: #00af00\">5</span>, <span style=\"color: #00af00; text-decoration-color: #00af00\">1</span>)           │              <span style=\"color: #00af00; text-decoration-color: #00af00\">0</span> │ batch_normalization_8… │\n",
              "├───────────────────────────┼────────────────────────┼────────────────┼────────────────────────┤\n",
              "│ multi_head_attention_13   │ [(<span style=\"color: #00d7ff; text-decoration-color: #00d7ff\">None</span>, <span style=\"color: #00af00; text-decoration-color: #00af00\">5</span>, <span style=\"color: #00af00; text-decoration-color: #00af00\">1</span>), (<span style=\"color: #00d7ff; text-decoration-color: #00d7ff\">None</span>,  │              <span style=\"color: #00af00; text-decoration-color: #00af00\">8</span> │ reshape_33[<span style=\"color: #00af00; text-decoration-color: #00af00\">0</span>][<span style=\"color: #00af00; text-decoration-color: #00af00\">0</span>],      │\n",
              "│ (<span style=\"color: #0087ff; text-decoration-color: #0087ff\">MultiHeadAttention</span>)      │ <span style=\"color: #00af00; text-decoration-color: #00af00\">1</span>, <span style=\"color: #00af00; text-decoration-color: #00af00\">5</span>, <span style=\"color: #00af00; text-decoration-color: #00af00\">5</span>)]              │                │ reshape_33[<span style=\"color: #00af00; text-decoration-color: #00af00\">0</span>][<span style=\"color: #00af00; text-decoration-color: #00af00\">0</span>],      │\n",
              "│                           │                        │                │ reshape_33[<span style=\"color: #00af00; text-decoration-color: #00af00\">0</span>][<span style=\"color: #00af00; text-decoration-color: #00af00\">0</span>]       │\n",
              "├───────────────────────────┼────────────────────────┼────────────────┼────────────────────────┤\n",
              "│ batch_normalization_87    │ (<span style=\"color: #00d7ff; text-decoration-color: #00d7ff\">None</span>, <span style=\"color: #00af00; text-decoration-color: #00af00\">5</span>, <span style=\"color: #00af00; text-decoration-color: #00af00\">1</span>)           │              <span style=\"color: #00af00; text-decoration-color: #00af00\">4</span> │ multi_head_attention_… │\n",
              "│ (<span style=\"color: #0087ff; text-decoration-color: #0087ff\">BatchNormalization</span>)      │                        │                │                        │\n",
              "├───────────────────────────┼────────────────────────┼────────────────┼────────────────────────┤\n",
              "│ flatten_33 (<span style=\"color: #0087ff; text-decoration-color: #0087ff\">Flatten</span>)      │ (<span style=\"color: #00d7ff; text-decoration-color: #00d7ff\">None</span>, <span style=\"color: #00af00; text-decoration-color: #00af00\">5</span>)              │              <span style=\"color: #00af00; text-decoration-color: #00af00\">0</span> │ batch_normalization_8… │\n",
              "├───────────────────────────┼────────────────────────┼────────────────┼────────────────────────┤\n",
              "│ activation_43             │ (<span style=\"color: #00d7ff; text-decoration-color: #00d7ff\">None</span>, <span style=\"color: #00af00; text-decoration-color: #00af00\">5</span>)              │              <span style=\"color: #00af00; text-decoration-color: #00af00\">0</span> │ flatten_33[<span style=\"color: #00af00; text-decoration-color: #00af00\">0</span>][<span style=\"color: #00af00; text-decoration-color: #00af00\">0</span>]       │\n",
              "│ (<span style=\"color: #0087ff; text-decoration-color: #0087ff\">Activation</span>)              │                        │                │                        │\n",
              "├───────────────────────────┼────────────────────────┼────────────────┼────────────────────────┤\n",
              "│ dense_53 (<span style=\"color: #0087ff; text-decoration-color: #0087ff\">Dense</span>)          │ (<span style=\"color: #00d7ff; text-decoration-color: #00d7ff\">None</span>, <span style=\"color: #00af00; text-decoration-color: #00af00\">1</span>)              │              <span style=\"color: #00af00; text-decoration-color: #00af00\">6</span> │ activation_43[<span style=\"color: #00af00; text-decoration-color: #00af00\">0</span>][<span style=\"color: #00af00; text-decoration-color: #00af00\">0</span>]    │\n",
              "└───────────────────────────┴────────────────────────┴────────────────┴────────────────────────┘\n",
              "</pre>\n"
            ]
          },
          "metadata": {}
        },
        {
          "output_type": "display_data",
          "data": {
            "text/plain": [
              "\u001b[1m Total params: \u001b[0m\u001b[38;5;34m40\u001b[0m (164.00 B)\n"
            ],
            "text/html": [
              "<pre style=\"white-space:pre;overflow-x:auto;line-height:normal;font-family:Menlo,'DejaVu Sans Mono',consolas,'Courier New',monospace\"><span style=\"font-weight: bold\"> Total params: </span><span style=\"color: #00af00; text-decoration-color: #00af00\">40</span> (164.00 B)\n",
              "</pre>\n"
            ]
          },
          "metadata": {}
        },
        {
          "output_type": "display_data",
          "data": {
            "text/plain": [
              "\u001b[1m Trainable params: \u001b[0m\u001b[38;5;34m26\u001b[0m (104.00 B)\n"
            ],
            "text/html": [
              "<pre style=\"white-space:pre;overflow-x:auto;line-height:normal;font-family:Menlo,'DejaVu Sans Mono',consolas,'Courier New',monospace\"><span style=\"font-weight: bold\"> Trainable params: </span><span style=\"color: #00af00; text-decoration-color: #00af00\">26</span> (104.00 B)\n",
              "</pre>\n"
            ]
          },
          "metadata": {}
        },
        {
          "output_type": "display_data",
          "data": {
            "text/plain": [
              "\u001b[1m Non-trainable params: \u001b[0m\u001b[38;5;34m12\u001b[0m (48.00 B)\n"
            ],
            "text/html": [
              "<pre style=\"white-space:pre;overflow-x:auto;line-height:normal;font-family:Menlo,'DejaVu Sans Mono',consolas,'Courier New',monospace\"><span style=\"font-weight: bold\"> Non-trainable params: </span><span style=\"color: #00af00; text-decoration-color: #00af00\">12</span> (48.00 B)\n",
              "</pre>\n"
            ]
          },
          "metadata": {}
        },
        {
          "output_type": "display_data",
          "data": {
            "text/plain": [
              "\u001b[1m Optimizer params: \u001b[0m\u001b[38;5;34m2\u001b[0m (12.00 B)\n"
            ],
            "text/html": [
              "<pre style=\"white-space:pre;overflow-x:auto;line-height:normal;font-family:Menlo,'DejaVu Sans Mono',consolas,'Courier New',monospace\"><span style=\"font-weight: bold\"> Optimizer params: </span><span style=\"color: #00af00; text-decoration-color: #00af00\">2</span> (12.00 B)\n",
              "</pre>\n"
            ]
          },
          "metadata": {}
        }
      ]
    },
    {
      "cell_type": "code",
      "source": [
        "plt.figure(figsize=(10, 5))\n",
        "\n",
        "# Subplot for DLNNe2e\n",
        "plt.subplot(1, 3, 1)\n",
        "plt.title('A) DLNNe2e')\n",
        "plot_model(DLNNe2e, to_file='model_dlnne2e.png', show_shapes=True, show_layer_names=True)\n",
        "img = plt.imread('model_dlnne2e.png')\n",
        "plt.imshow(img)\n",
        "plt.axis('off')\n",
        "\n",
        "# Subplot for DLNNnorm\n",
        "plt.subplot(1, 3, 2)\n",
        "plt.title('B) Conv')\n",
        "plot_model(conv, to_file='model_conv.png', show_shapes=True, show_layer_names=True)\n",
        "img = plt.imread('model_conv.png')\n",
        "plt.imshow(img)\n",
        "plt.axis('off')\n",
        "\n",
        "# Subplot for DLNNnorm\n",
        "plt.subplot(1, 3, 3)\n",
        "plt.title('C) Atención')\n",
        "plot_model(atencion, to_file='model_atencion.png', show_shapes=True, show_layer_names=True)\n",
        "img = plt.imread('model_atencion.png')\n",
        "plt.imshow(img)\n",
        "plt.axis('off')\n",
        "\n",
        "plt.tight_layout()\n",
        "plt.show()"
      ],
      "metadata": {
        "colab": {
          "base_uri": "https://localhost:8080/",
          "height": 507
        },
        "id": "TP8f3Kj2P5jJ",
        "outputId": "04e52d17-5d4e-4fe1-9027-fc612f881ac5"
      },
      "execution_count": 39,
      "outputs": [
        {
          "output_type": "display_data",
          "data": {
            "text/plain": [
              "<Figure size 1000x500 with 3 Axes>"
            ],
            "image/png": "[encoded data removed]"
          },
          "metadata": {}
        }
      ]
    },
    {
      "cell_type": "markdown",
      "source": [
        "La primera comparación que se puede hacer entre los 3 modelos reside en la arquitectura, y en la cantidad de parámetros entrenables. Podemos ver que para cada modelo, la cantidad de parámetros entrenables es:\n",
        "\n",
        "\n",
        "*   **DLNNe2e**: 65\n",
        "*   **Conv**: 331\n",
        "*   **Atención**: 26\n",
        "\n",
        "Por un lado, notamos que el modelo *Conv* no solo tiene más parámetros entrenables que el modelo *Atención*, sino que también supera considerablemente al modelo original (*DLNNe2e*). Esto implica un mayor costo computacional.\n",
        "Por otro lado, el modelo *Atención* tiene 26 parámetros entrenables, a comparación de los 65 parámetros correspondientes al modelo original. Esto nos permite concluir que el modelo de atención implica un considerablemente menor costo computacional.\n",
        "\n"
      ],
      "metadata": {
        "id": "cf2Al_rGWean"
      }
    },
    {
      "cell_type": "markdown",
      "source": [
        "## Tiempo de Inferencia"
      ],
      "metadata": {
        "id": "_iwnGD4YZpye"
      }
    },
    {
      "cell_type": "markdown",
      "source": [
        "Aunque el modelo *Atención* tiene menos parámetros entrenables, la capa de atención es más compleja que una capa completamente conectada (FCL), lo que puede incrementar el costo computacional. Sin embargo, dado que en este problema se utilizan únicamente 5 features, la complejidad adicional no debería representar un inconveniente significativo.\n",
        "De todas formas, para analizar mejor esta diferencia, se calcula el tiempo de inferencia, es decir, el tiempo que tarda cada modelo en realizar una predicción a partir de nuevos datos."
      ],
      "metadata": {
        "id": "4kaq0SLgD0up"
      }
    },
    {
      "cell_type": "code",
      "source": [
        "import time\n",
        "\n",
        "def measure_inference_time(model, X_test):\n",
        "    start_time = time.time()\n",
        "    _ = model.predict(X_test)\n",
        "    end_time = time.time()\n",
        "\n",
        "    inference_time = end_time - start_time\n",
        "    return inference_time\n",
        "\n",
        "# Comparar tiempos de inferencia de los modelos ya entrenados\n",
        "inference_time_attention = measure_inference_time(atencion, X_test)\n",
        "inference_time_conv = measure_inference_time(conv, X_test)\n",
        "inference_time_dlnn = measure_inference_time(DLNNe2e, X_test)\n",
        "\n",
        "print(f\"Tiempo de inferencia del modelo de Atención: {inference_time_attention:.6f} segundos\")\n",
        "print(f\"Tiempo de inferencia del modelo Conv: {inference_time_conv:.6f} segundos\")\n",
        "print(f\"Tiempo de inferencia del modelo DLNNe2e: {inference_time_dlnn:.6f} segundos\")"
      ],
      "metadata": {
        "colab": {
          "base_uri": "https://localhost:8080/"
        },
        "id": "CyNLFzxiWt6p",
        "outputId": "f37436b0-827d-48a2-b1d4-a0434d50c3e3"
      },
      "execution_count": 41,
      "outputs": [
        {
          "output_type": "stream",
          "name": "stdout",
          "text": [
            "\u001b[1m1/1\u001b[0m \u001b[32m━━━━━━━━━━━━━━━━━━━━\u001b[0m\u001b[37m\u001b[0m \u001b[1m0s\u001b[0m 38ms/step\n",
            "\u001b[1m1/1\u001b[0m \u001b[32m━━━━━━━━━━━━━━━━━━━━\u001b[0m\u001b[37m\u001b[0m \u001b[1m0s\u001b[0m 42ms/step\n",
            "\u001b[1m1/1\u001b[0m \u001b[32m━━━━━━━━━━━━━━━━━━━━\u001b[0m\u001b[37m\u001b[0m \u001b[1m0s\u001b[0m 37ms/step\n",
            "Tiempo de inferencia del modelo de Atención: 0.090407 segundos\n",
            "Tiempo de inferencia del modelo Conv: 0.094176 segundos\n",
            "Tiempo de inferencia del modelo DLNNe2e: 0.083896 segundos\n"
          ]
        }
      ]
    },
    {
      "cell_type": "markdown",
      "source": [
        "El modelo Conv es el que presenta el mayor tiempo de inferencia (0.094176 segundos), lo cual está en línea con su mayor cantidad de parámetros entrenables. Por otro lado, notamos que el tiempo de inferencia del modelo de *Atencion* es de 0.090407 segundos, mientras que para el modelo original presenta el menor tiempo, con 0.0839 segundos. Esto implica que, aunque el modelo *Atención* tiene significativamente menos parámetros entrenables que los otros modelos, la complejidad inherente a la capa de atención provoca que su tiempo de inferencia sea mayor, aunque se mantenga cercano al de un modelo con una estructura más sencilla."
      ],
      "metadata": {
        "id": "0zTWt82sbOoV"
      }
    },
    {
      "cell_type": "markdown",
      "source": [
        "## Attention Scores"
      ],
      "metadata": {
        "id": "EEsfPCndpucp"
      }
    },
    {
      "cell_type": "code",
      "source": [
        "print(\"Shape de attention scores:\", len(att_scores[0]))"
      ],
      "metadata": {
        "colab": {
          "base_uri": "https://localhost:8080/"
        },
        "id": "sb8qk0Pnpwh_",
        "outputId": "1623f92d-7b96-4714-fb82-1103a65be312"
      },
      "execution_count": 48,
      "outputs": [
        {
          "output_type": "stream",
          "name": "stdout",
          "text": [
            "Shape de attention scores: 22\n"
          ]
        }
      ]
    },
    {
      "cell_type": "code",
      "source": [
        "att_scores_array = np.array(att_scores)  # Shape esperado: (num_splits, batch_size, 1, 5, 5)\n",
        "print(\"Shape de att_scores:\", att_scores_array.shape)"
      ],
      "metadata": {
        "colab": {
          "base_uri": "https://localhost:8080/"
        },
        "id": "Y7MHEEiYqLS9",
        "outputId": "eac6be4c-50b2-4231-c3df-8e47490c9696"
      },
      "execution_count": 54,
      "outputs": [
        {
          "output_type": "stream",
          "name": "stdout",
          "text": [
            "Shape de att_scores: (10, 22, 1, 5, 5)\n"
          ]
        }
      ]
    },
    {
      "cell_type": "code",
      "source": [
        "fig, axes = plt.subplots(2, 5, figsize=(15, 6), constrained_layout=True)\n",
        "for split_idx in range(10):\n",
        "  # Promediar sobre todas las muestras en el split\n",
        "  average_attention = np.mean(att_scores_array[split_idx, :, 0, :, :], axis=0)\n",
        "\n",
        "  ax = axes[split_idx // 5, split_idx % 5]\n",
        "\n",
        "  # Graficar el heatmap\n",
        "  im = ax.imshow(average_attention, cmap=\"viridis\", aspect=\"auto\")\n",
        "  ax.set_title(f\"Split {split_idx}\")\n",
        "  ax.set_xlabel(\"Key Positions\")\n",
        "  ax.set_ylabel(\"Query Positions\")\n",
        "\n",
        "fig.suptitle(f\"Attention Scores Promedio\")\n",
        "fig.tight_layout(rect=[0, 0, 1, 0.95])\n",
        "\n",
        "# Agregar una barra de color común\n",
        "cbar_ax = fig.add_axes([1, 0.2, 0.015, 0.6])  # [left, bottom, width, height]\n",
        "fig.colorbar(im, cax=cbar_ax, label=\"Attention Score\")\n",
        "\n",
        "plt.show()"
      ],
      "metadata": {
        "colab": {
          "base_uri": "https://localhost:8080/",
          "height": 0
        },
        "id": "Iu55sQ0pro_-",
        "outputId": "2a0131b7-385c-482e-e778-eb85732c11c3"
      },
      "execution_count": 59,
      "outputs": [
        {
          "output_type": "stream",
          "name": "stderr",
          "text": [
            "<ipython-input-59-9ea50611e24f>:15: UserWarning: The figure layout has changed to tight\n",
            "  fig.tight_layout(rect=[0, 0, 1, 0.95])\n"
          ]
        },
        {
          "output_type": "display_data",
          "data": {
            "text/plain": [
              "<Figure size 1500x600 with 11 Axes>"
            ],
            "image/png": "[encoded data removed]"
          },
          "metadata": {}
        }
      ]
    },
    {
      "cell_type": "markdown",
      "source": [
        "En la gran mayoría de los splits, la **Key Position** 2, correspondiente a la variable Upos, recibe la mayor atención en todas las **Query Positions** (con excepción de sí mismo). Esto sugiere que la combinación de los demás features con *Upos* es clave para la estimación de *Ueq*. En otras palabras, la presencia de *Upos* parece ser un factor determinante en la predicción de *Ueq*, lo que indica su importancia en el modelo. Este hallazgo es consistente con otros análisis previos, como la inspección de los parámetros de la capa de entrada de **Batch Normalization**, donde se había identificado la relevancia de *Upos* en la estimación de *Ueq*"
      ],
      "metadata": {
        "id": "9ZuCQ-Luvfe-"
      }
    },
    {
      "cell_type": "markdown",
      "source": [
        "## Rendimiento de los modelos"
      ],
      "metadata": {
        "id": "X1URIcmwc5ky"
      }
    },
    {
      "cell_type": "code",
      "source": [
        "import numpy as np\n",
        "import matplotlib.pyplot as plt\n",
        "from sklearn.metrics import mean_squared_error, mean_absolute_error, r2_score\n",
        "\n",
        "# Cargar los resultados de los archivos pickle\n",
        "with open('/content/drive/MyDrive/Embryoxite/original_model_checkpoints/results.pickle', 'rb') as f:\n",
        "    results_original = pickle.load(f)\n",
        "with open('/content/drive/MyDrive/Embryoxite/conv_model_checkpoints/results.pickle', 'rb') as f:\n",
        "    results_conv = pickle.load(f)\n",
        "with open('/content/drive/MyDrive/Embryoxite/atencion_model_checkpoints/results.pickle', 'rb') as f:\n",
        "    results_atencion = pickle.load(f)\n",
        "\n",
        "# Calcular MSE, RMSE, MAE, y R² para cada modelo\n",
        "def calculate_metrics(y_true, y_pred):\n",
        "    mse = mean_squared_error(y_true, y_pred)\n",
        "    rmse = np.sqrt(mse)\n",
        "    mae = mean_absolute_error(y_true, y_pred)\n",
        "    r2 = r2_score(y_true, y_pred)\n",
        "    return mse, rmse, mae, r2\n",
        "\n",
        "# Calcular las métricas para cada modelo y cada split\n",
        "metrics = {'DLNNe2e': [], 'Conv': [], 'Atencion': []}\n",
        "att_scores = []\n",
        "for i in range(10):  # Asumiendo 10 splits\n",
        "    y_true = results_original[i]['DLNNe2e']['true_value']\n",
        "\n",
        "    y_pred_dlnne2e = results_original[i]['DLNNe2e']['predictions']\n",
        "    metrics['DLNNe2e'].append(calculate_metrics(y_true, y_pred_dlnne2e))\n",
        "\n",
        "    y_pred_conv = results_conv[i]['conv']['predictions']\n",
        "    metrics['Conv'].append(calculate_metrics(y_true, y_pred_conv))\n",
        "\n",
        "    y_pred_atencion = results_atencion[i]['atencion']['predictions']\n",
        "    att_scores.append(results_atencion[i]['atencion']['attention_scores'])\n",
        "    metrics['Atencion'].append(calculate_metrics(y_true, y_pred_atencion))\n",
        "\n",
        "\n",
        "df = pd.DataFrame({\n",
        "    'Model': list(metrics.keys()),\n",
        "    'MSE': [np.mean([m[0] for m in metrics[model]]) for model in metrics],\n",
        "    'RMSE': [np.mean([m[1] for m in metrics[model]]) for model in metrics],\n",
        "    'MAE': [np.mean([m[2] for m in metrics[model]]) for model in metrics],\n",
        "    'R²': [np.mean([m[3] for m in metrics[model]]) for model in metrics]\n",
        "})\n",
        "\n",
        "# Imprimir la tabla\n",
        "df.head()"
      ],
      "metadata": {
        "colab": {
          "base_uri": "https://localhost:8080/",
          "height": 143
        },
        "id": "KmiZSLS6c7J6",
        "outputId": "5e43d1b9-7e97-4037-a695-6c8b9df1182a"
      },
      "execution_count": 45,
      "outputs": [
        {
          "output_type": "execute_result",
          "data": {
            "text/plain": [
              "      Model         MSE       RMSE        MAE        R²\n",
              "0   DLNNe2e  147.115634  11.893684   8.435553  0.585099\n",
              "1      Conv  668.103079  25.366219  21.040251 -0.754830\n",
              "2  Atencion  609.864221  24.414662  19.918895 -0.613740"
            ],
            "text/html": [
              "\n",
              "  <div id=\"df-dcc55d94-75f5-4304-82fa-9db75c503128\" class=\"colab-df-container\">\n",
              "    <div>\n",
              "<style scoped>\n",
              "    .dataframe tbody tr th:only-of-type {\n",
              "        vertical-align: middle;\n",
              "    }\n",
              "\n",
              "    .dataframe tbody tr th {\n",
              "        vertical-align: top;\n",
              "    }\n",
              "\n",
              "    .dataframe thead th {\n",
              "        text-align: right;\n",
              "    }\n",
              "</style>\n",
              "<table border=\"1\" class=\"dataframe\">\n",
              "  <thead>\n",
              "    <tr style=\"text-align: right;\">\n",
              "      <th></th>\n",
              "      <th>Model</th>\n",
              "      <th>MSE</th>\n",
              "      <th>RMSE</th>\n",
              "      <th>MAE</th>\n",
              "      <th>R²</th>\n",
              "    </tr>\n",
              "  </thead>\n",
              "  <tbody>\n",
              "    <tr>\n",
              "      <th>0</th>\n",
              "      <td>DLNNe2e</td>\n",
              "      <td>147.115634</td>\n",
              "      <td>11.893684</td>\n",
              "      <td>8.435553</td>\n",
              "      <td>0.585099</td>\n",
              "    </tr>\n",
              "    <tr>\n",
              "      <th>1</th>\n",
              "      <td>Conv</td>\n",
              "      <td>668.103079</td>\n",
              "      <td>25.366219</td>\n",
              "      <td>21.040251</td>\n",
              "      <td>-0.754830</td>\n",
              "    </tr>\n",
              "    <tr>\n",
              "      <th>2</th>\n",
              "      <td>Atencion</td>\n",
              "      <td>609.864221</td>\n",
              "      <td>24.414662</td>\n",
              "      <td>19.918895</td>\n",
              "      <td>-0.613740</td>\n",
              "    </tr>\n",
              "  </tbody>\n",
              "</table>\n",
              "</div>\n",
              "    <div class=\"colab-df-buttons\">\n",
              "\n",
              "  <div class=\"colab-df-container\">\n",
              "    <button class=\"colab-df-convert\" onclick=\"convertToInteractive('df-dcc55d94-75f5-4304-82fa-9db75c503128')\"\n",
              "            title=\"Convert this dataframe to an interactive table.\"\n",
              "            style=\"display:none;\">\n",
              "\n",
              "  <svg xmlns=\"http://www.w3.org/2000/svg\" height=\"24px\" viewBox=\"0 -960 960 960\">\n",
              "    <path d=\"M120-120v-720h720v720H120Zm60-500h600v-160H180v160Zm220 220h160v-160H400v160Zm0 220h160v-160H400v160ZM180-400h160v-160H180v160Zm440 0h160v-160H620v160ZM180-180h160v-160H180v160Zm440 0h160v-160H620v160Z\"/>\n",
              "  </svg>\n",
              "    </button>\n",
              "\n",
              "  <style>\n",
              "    .colab-df-container {\n",
              "      display:flex;\n",
              "      gap: 12px;\n",
              "    }\n",
              "\n",
              "    .colab-df-convert {\n",
              "      background-color: #E8F0FE;\n",
              "      border: none;\n",
              "      border-radius: 50%;\n",
              "      cursor: pointer;\n",
              "      display: none;\n",
              "      fill: #1967D2;\n",
              "      height: 32px;\n",
              "      padding: 0 0 0 0;\n",
              "      width: 32px;\n",
              "    }\n",
              "\n",
              "    .colab-df-convert:hover {\n",
              "      background-color: #E2EBFA;\n",
              "      box-shadow: 0px 1px 2px rgba(60, 64, 67, 0.3), 0px 1px 3px 1px rgba(60, 64, 67, 0.15);\n",
              "      fill: #174EA6;\n",
              "    }\n",
              "\n",
              "    .colab-df-buttons div {\n",
              "      margin-bottom: 4px;\n",
              "    }\n",
              "\n",
              "    [theme=dark] .colab-df-convert {\n",
              "      background-color: #3B4455;\n",
              "      fill: #D2E3FC;\n",
              "    }\n",
              "\n",
              "    [theme=dark] .colab-df-convert:hover {\n",
              "      background-color: #434B5C;\n",
              "      box-shadow: 0px 1px 3px 1px rgba(0, 0, 0, 0.15);\n",
              "      filter: drop-shadow(0px 1px 2px rgba(0, 0, 0, 0.3));\n",
              "      fill: #FFFFFF;\n",
              "    }\n",
              "  </style>\n",
              "\n",
              "    <script>\n",
              "      const buttonEl =\n",
              "        document.querySelector('#df-dcc55d94-75f5-4304-82fa-9db75c503128 button.colab-df-convert');\n",
              "      buttonEl.style.display =\n",
              "        google.colab.kernel.accessAllowed ? 'block' : 'none';\n",
              "\n",
              "      async function convertToInteractive(key) {\n",
              "        const element = document.querySelector('#df-dcc55d94-75f5-4304-82fa-9db75c503128');\n",
              "        const dataTable =\n",
              "          await google.colab.kernel.invokeFunction('convertToInteractive',\n",
              "                                                    [key], {});\n",
              "        if (!dataTable) return;\n",
              "\n",
              "        const docLinkHtml = 'Like what you see? Visit the ' +\n",
              "          '<a target=\"_blank\" href=https://colab.research.google.com/notebooks/data_table.ipynb>data table notebook</a>'\n",
              "          + ' to learn more about interactive tables.';\n",
              "        element.innerHTML = '';\n",
              "        dataTable['output_type'] = 'display_data';\n",
              "        await google.colab.output.renderOutput(dataTable, element);\n",
              "        const docLink = document.createElement('div');\n",
              "        docLink.innerHTML = docLinkHtml;\n",
              "        element.appendChild(docLink);\n",
              "      }\n",
              "    </script>\n",
              "  </div>\n",
              "\n",
              "\n",
              "<div id=\"df-5304f213-c451-44cf-9164-f32b71339f16\">\n",
              "  <button class=\"colab-df-quickchart\" onclick=\"quickchart('df-5304f213-c451-44cf-9164-f32b71339f16')\"\n",
              "            title=\"Suggest charts\"\n",
              "            style=\"display:none;\">\n",
              "\n",
              "<svg xmlns=\"http://www.w3.org/2000/svg\" height=\"24px\"viewBox=\"0 0 24 24\"\n",
              "     width=\"24px\">\n",
              "    <g>\n",
              "        <path d=\"M19 3H5c-1.1 0-2 .9-2 2v14c0 1.1.9 2 2 2h14c1.1 0 2-.9 2-2V5c0-1.1-.9-2-2-2zM9 17H7v-7h2v7zm4 0h-2V7h2v10zm4 0h-2v-4h2v4z\"/>\n",
              "    </g>\n",
              "</svg>\n",
              "  </button>\n",
              "\n",
              "<style>\n",
              "  .colab-df-quickchart {\n",
              "      --bg-color: #E8F0FE;\n",
              "      --fill-color: #1967D2;\n",
              "      --hover-bg-color: #E2EBFA;\n",
              "      --hover-fill-color: #174EA6;\n",
              "      --disabled-fill-color: #AAA;\n",
              "      --disabled-bg-color: #DDD;\n",
              "  }\n",
              "\n",
              "  [theme=dark] .colab-df-quickchart {\n",
              "      --bg-color: #3B4455;\n",
              "      --fill-color: #D2E3FC;\n",
              "      --hover-bg-color: #434B5C;\n",
              "      --hover-fill-color: #FFFFFF;\n",
              "      --disabled-bg-color: #3B4455;\n",
              "      --disabled-fill-color: #666;\n",
              "  }\n",
              "\n",
              "  .colab-df-quickchart {\n",
              "    background-color: var(--bg-color);\n",
              "    border: none;\n",
              "    border-radius: 50%;\n",
              "    cursor: pointer;\n",
              "    display: none;\n",
              "    fill: var(--fill-color);\n",
              "    height: 32px;\n",
              "    padding: 0;\n",
              "    width: 32px;\n",
              "  }\n",
              "\n",
              "  .colab-df-quickchart:hover {\n",
              "    background-color: var(--hover-bg-color);\n",
              "    box-shadow: 0 1px 2px rgba(60, 64, 67, 0.3), 0 1px 3px 1px rgba(60, 64, 67, 0.15);\n",
              "    fill: var(--button-hover-fill-color);\n",
              "  }\n",
              "\n",
              "  .colab-df-quickchart-complete:disabled,\n",
              "  .colab-df-quickchart-complete:disabled:hover {\n",
              "    background-color: var(--disabled-bg-color);\n",
              "    fill: var(--disabled-fill-color);\n",
              "    box-shadow: none;\n",
              "  }\n",
              "\n",
              "  .colab-df-spinner {\n",
              "    border: 2px solid var(--fill-color);\n",
              "    border-color: transparent;\n",
              "    border-bottom-color: var(--fill-color);\n",
              "    animation:\n",
              "      spin 1s steps(1) infinite;\n",
              "  }\n",
              "\n",
              "  @keyframes spin {\n",
              "    0% {\n",
              "      border-color: transparent;\n",
              "      border-bottom-color: var(--fill-color);\n",
              "      border-left-color: var(--fill-color);\n",
              "    }\n",
              "    20% {\n",
              "      border-color: transparent;\n",
              "      border-left-color: var(--fill-color);\n",
              "      border-top-color: var(--fill-color);\n",
              "    }\n",
              "    30% {\n",
              "      border-color: transparent;\n",
              "      border-left-color: var(--fill-color);\n",
              "      border-top-color: var(--fill-color);\n",
              "      border-right-color: var(--fill-color);\n",
              "    }\n",
              "    40% {\n",
              "      border-color: transparent;\n",
              "      border-right-color: var(--fill-color);\n",
              "      border-top-color: var(--fill-color);\n",
              "    }\n",
              "    60% {\n",
              "      border-color: transparent;\n",
              "      border-right-color: var(--fill-color);\n",
              "    }\n",
              "    80% {\n",
              "      border-color: transparent;\n",
              "      border-right-color: var(--fill-color);\n",
              "      border-bottom-color: var(--fill-color);\n",
              "    }\n",
              "    90% {\n",
              "      border-color: transparent;\n",
              "      border-bottom-color: var(--fill-color);\n",
              "    }\n",
              "  }\n",
              "</style>\n",
              "\n",
              "  <script>\n",
              "    async function quickchart(key) {\n",
              "      const quickchartButtonEl =\n",
              "        document.querySelector('#' + key + ' button');\n",
              "      quickchartButtonEl.disabled = true;  // To prevent multiple clicks.\n",
              "      quickchartButtonEl.classList.add('colab-df-spinner');\n",
              "      try {\n",
              "        const charts = await google.colab.kernel.invokeFunction(\n",
              "            'suggestCharts', [key], {});\n",
              "      } catch (error) {\n",
              "        console.error('Error during call to suggestCharts:', error);\n",
              "      }\n",
              "      quickchartButtonEl.classList.remove('colab-df-spinner');\n",
              "      quickchartButtonEl.classList.add('colab-df-quickchart-complete');\n",
              "    }\n",
              "    (() => {\n",
              "      let quickchartButtonEl =\n",
              "        document.querySelector('#df-5304f213-c451-44cf-9164-f32b71339f16 button');\n",
              "      quickchartButtonEl.style.display =\n",
              "        google.colab.kernel.accessAllowed ? 'block' : 'none';\n",
              "    })();\n",
              "  </script>\n",
              "</div>\n",
              "\n",
              "    </div>\n",
              "  </div>\n"
            ],
            "application/vnd.google.colaboratory.intrinsic+json": {
              "type": "dataframe",
              "variable_name": "df",
              "summary": "{\n  \"name\": \"df\",\n  \"rows\": 3,\n  \"fields\": [\n    {\n      \"column\": \"Model\",\n      \"properties\": {\n        \"dtype\": \"string\",\n        \"num_unique_values\": 3,\n        \"samples\": [\n          \"DLNNe2e\",\n          \"Conv\",\n          \"Atencion\"\n        ],\n        \"semantic_type\": \"\",\n        \"description\": \"\"\n      }\n    },\n    {\n      \"column\": \"MSE\",\n      \"properties\": {\n        \"dtype\": \"number\",\n        \"std\": 285.4691862382945,\n        \"min\": 147.115633669173,\n        \"max\": 668.1030786813849,\n        \"num_unique_values\": 3,\n        \"samples\": [\n          147.115633669173,\n          668.1030786813849,\n          609.8642213315909\n        ],\n        \"semantic_type\": \"\",\n        \"description\": \"\"\n      }\n    },\n    {\n      \"column\": \"RMSE\",\n      \"properties\": {\n        \"dtype\": \"number\",\n        \"std\": 7.51874931213118,\n        \"min\": 11.893684390678049,\n        \"max\": 25.366219288365947,\n        \"num_unique_values\": 3,\n        \"samples\": [\n          11.893684390678049,\n          25.366219288365947,\n          24.414662396581495\n        ],\n        \"semantic_type\": \"\",\n        \"description\": \"\"\n      }\n    },\n    {\n      \"column\": \"MAE\",\n      \"properties\": {\n        \"dtype\": \"number\",\n        \"std\": 6.976185994464758,\n        \"min\": 8.435552579706364,\n        \"max\": 21.040251489119093,\n        \"num_unique_values\": 3,\n        \"samples\": [\n          8.435552579706364,\n          21.040251489119093,\n          19.918894906477494\n        ],\n        \"semantic_type\": \"\",\n        \"description\": \"\"\n      }\n    },\n    {\n      \"column\": \"R\\u00b2\",\n      \"properties\": {\n        \"dtype\": \"number\",\n        \"std\": 0.7362666902000325,\n        \"min\": -0.7548300411407174,\n        \"max\": 0.5850991744424617,\n        \"num_unique_values\": 3,\n        \"samples\": [\n          0.5850991744424617,\n          -0.7548300411407174,\n          -0.6137398893538742\n        ],\n        \"semantic_type\": \"\",\n        \"description\": \"\"\n      }\n    }\n  ]\n}"
            }
          },
          "metadata": {},
          "execution_count": 45
        }
      ]
    },
    {
      "cell_type": "markdown",
      "source": [
        "Para las 4 métricas utilizadas, notamos que el modelo *DLNNe2e* tiene un mejor rendimiento, ya que tiene un menor error y explica mejor la varianza de los datos. Además, los modelos *Conv* y *Atención* no solo presentan errores más altos, sino que además tienen un R2 negativo, lo que implica que están funcionando peor que simplemente predecir la media de los valores de salida."
      ],
      "metadata": {
        "id": "A8YDVyCWN1sV"
      }
    },
    {
      "cell_type": "code",
      "source": [
        "import matplotlib.pyplot as plt\n",
        "\n",
        "# Crear una figura con 1 fila y 3 columnas de subplots\n",
        "fig, axes = plt.subplots(1, 3, figsize=(18, 6))\n",
        "\n",
        "# Definir los modelos y sus predicciones\n",
        "models = [\n",
        "    (\"Attention\", y_pred_atencion),\n",
        "    (\"Conv\", y_pred_conv),\n",
        "    (\"DLNNe2e\", y_pred_dlnne2e)\n",
        "]\n",
        "\n",
        "# Recorrer cada subplot y graficar\n",
        "for ax, (model_name, y_pred) in zip(axes, models):\n",
        "    ax.scatter(y_true, y_pred, color='blue', alpha=0.5)\n",
        "    ax.plot([min(y_true), max(y_true)], [min(y_true), max(y_true)], color='red', linestyle='--')\n",
        "    ax.set_title(f'{model_name} Predictions vs Actual Values')\n",
        "    ax.set_xlabel('Actual Values')\n",
        "    ax.set_ylabel('Predicted Values')\n",
        "\n",
        "plt.tight_layout()\n",
        "plt.show()\n"
      ],
      "metadata": {
        "colab": {
          "base_uri": "https://localhost:8080/",
          "height": 427
        },
        "id": "-ybMIoEgeXR2",
        "outputId": "7953b367-ce5a-4ed4-a912-f56fefa7edc4"
      },
      "execution_count": 43,
      "outputs": [
        {
          "output_type": "display_data",
          "data": {
            "text/plain": [
              "<Figure size 1800x600 with 3 Axes>"
            ],
            "image/png": "[encoded data removed]"
          },
          "metadata": {}
        }
      ]
    },
    {
      "cell_type": "markdown",
      "source": [
        "Estos gráficos coinciden con lo analizado previamente. Vemos que en el caso del modelo *DLNNe2e*, los puntos están más alineados con la línea roja, lo que indica predicciones más precisas. Si bien hay desviaciones, la tendencia general es considerablemente mejor que los otros dos modelos. En los otros dos modelos, vemos puntos dispersos y alejados de la linea roja."
      ],
      "metadata": {
        "id": "9emFPGJYOcLg"
      }
    },
    {
      "cell_type": "code",
      "source": [
        "# Crear una figura con 1 fila y 3 columnas de subplots\n",
        "fig, axes = plt.subplots(1, 3, figsize=(18, 6))\n",
        "\n",
        "# Definir los modelos y sus predicciones\n",
        "models = [\n",
        "    (\"Attention\", y_pred_atencion),\n",
        "    (\"Conv\", y_pred_conv),\n",
        "    (\"DLNNe2e\", y_pred_dlnne2e)\n",
        "]\n",
        "\n",
        "for ax, (model_name, y_pred) in zip(axes, models):\n",
        "    residuals = y_pred - y_true\n",
        "    ax.scatter(y_true, residuals, color='blue', alpha=0.5)\n",
        "    ax.axhline(0, color='red', linestyle='--')\n",
        "    ax.set_title(f'Residuales {model_name}')\n",
        "    ax.set_xlabel('Valores reales')\n",
        "    ax.set_ylabel('Residuos (Predicho - Real)')\n",
        "plt.tight_layout()\n",
        "plt.show()"
      ],
      "metadata": {
        "colab": {
          "base_uri": "https://localhost:8080/",
          "height": 426
        },
        "id": "R9m8X1RWee3f",
        "outputId": "8ee01643-40cf-41a7-e3d2-62da01793ac1"
      },
      "execution_count": 44,
      "outputs": [
        {
          "output_type": "display_data",
          "data": {
            "text/plain": [
              "<Figure size 1800x600 with 3 Axes>"
            ],
            "image/png": "[encoded data removed]"
          },
          "metadata": {}
        }
      ]
    },
    {
      "cell_type": "markdown",
      "source": [
        "Estos gráficos muestran la diferencia entre los valores predichos y los valores reales para cada modelo. El análisis de estos gráficos coincide con lo que se analizó previamente. En el caso del modelo de *atencion*, hay una gran disperción, lo que indica que el modelo comete errores grandes. Además, hay un patrón de error, ya que para los valores reales bajos, los errores son positivos, y para los altos, los errores son negativos. Esto sugiere que el modelo no capta correctamente la relación entre variables.\n",
        "\n",
        "El modelo de *convolución*, por otro lado, también muestra una gran variabilidad en los errores pero sin una estructura clara. Si bien no tiene una tendencia de error como el caso anterior, sigue siendo inconsistente.\n",
        "\n",
        "Por último, los residuales están más concentrados alrededor de la línea 0 del modelo *DLNNe2e*, lo que indica que este modelo puede hacer predicciones más precisas."
      ],
      "metadata": {
        "id": "MNlN5y-UPAfl"
      }
    },
    {
      "cell_type": "markdown",
      "source": [
        "En conclusión, el mejor modelo es el *DLNNe2e*, y se demuestra tanto en las métricas evaluadas como en los gráficos. Además, es visible que usar capas convolucionales o de atención en este problema no mejoró el desempeño, sino que lo empeoró. Este tiene sentido por las siguientes razones:\n",
        "\n",
        "\n",
        "*   El modelo original es un modelo optimizado, para el cual ya se encontró la combinación de parámetros correcta para el problema presentado. En el caso de los otros modelos, se debería encontrar los modelos óptimos para este problema y a partir de ellos, realizar un análisis más comparativo.\n",
        "\n",
        "*  El conjunto de datos es pequeño y cuenta con pocas características, lo que sugiere que el problema podría no tener una estructura lo suficientemente compleja como para justificar el uso de capas más avanzadas. Esto es relevante, ya que los modelos podrían ser demasiado complejos para el conjunto de datos, lo que aumentaría el riesgo de sobreajuste.\n",
        "\n",
        "\n"
      ],
      "metadata": {
        "id": "WC6BhPukKkMw"
      }
    },
    {
      "cell_type": "markdown",
      "source": [
        "# Conclusiones"
      ],
      "metadata": {
        "id": "fftKzR6mRBca"
      }
    },
    {
      "cell_type": "markdown",
      "source": [
        "Si bien, en teoría, el uso de ambas capas es adecuado para el problema planteado, en la práctica es necesario realizar ciertas adaptaciones para ajustar el modelo al problema o viceversa. En una sección anterior se explicó la utilidad de cada capa, pero ambas siguen siendo demasiado complejas para el conjunto de datos disponible. Para aprovechar mejor sus beneficios, sería recomendable aumentar la cantidad de muestras y/o incluir más características en el conjunto de datos. Además, si se incorporan variables de entrada con un orden intrínseco, el uso de ambas capas tendría aún más sentido."
      ],
      "metadata": {
        "id": "c_yFgQcjRC2e"
      }
    }
  ]
}